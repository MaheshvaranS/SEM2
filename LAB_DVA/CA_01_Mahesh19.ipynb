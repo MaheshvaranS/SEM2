{
 "cells": [
  {
   "cell_type": "markdown",
   "id": "0426d442",
   "metadata": {},
   "source": [
    "**Maheshvaran S**\n",
    "\n",
    "**205229119**"
   ]
  },
  {
   "cell_type": "markdown",
   "id": "531f8713",
   "metadata": {},
   "source": [
    "### DVA – MatPlotLib Lab Activity\n",
    "\n",
    "#### Download Data set from following link\n",
    "https://www.kaggle.com/aungpyaeap/supermarket-sales\n",
    "\n",
    "#### Preprocessing\n",
    "#### Data Cleaning\n",
    "### Analytics Output\n",
    "1. Find which product sold highest in 2019 and draw the graph for that product's sales in each\n",
    "   month.\n",
    "2. Find which product sold lowest in 2019 and draw the graph for that product's each month\n",
    "   sales count.\n",
    "3. Draw graph using multiple bar graph, find which product sales is less than or equal to 5\n",
    "   numbers and show its gross income of each invoice bill in the month of May.\n",
    "4. Show each month sales count of Electronic accessories using scatter plot.\n",
    "5. Using multiple line graph, show highest sales product and lowest sales product in the year2019. Graph have to show       monthly wise sales.\n",
    "6. Using stacked bar, show each month highest profit products sold numbers and each month\n",
    "   lowest profit products sold numbers"
   ]
  },
  {
   "cell_type": "code",
   "execution_count": 1,
   "id": "d73365cf",
   "metadata": {},
   "outputs": [
    {
     "data": {
      "text/html": [
       "<div>\n",
       "<style scoped>\n",
       "    .dataframe tbody tr th:only-of-type {\n",
       "        vertical-align: middle;\n",
       "    }\n",
       "\n",
       "    .dataframe tbody tr th {\n",
       "        vertical-align: top;\n",
       "    }\n",
       "\n",
       "    .dataframe thead th {\n",
       "        text-align: right;\n",
       "    }\n",
       "</style>\n",
       "<table border=\"1\" class=\"dataframe\">\n",
       "  <thead>\n",
       "    <tr style=\"text-align: right;\">\n",
       "      <th></th>\n",
       "      <th>Invoice ID</th>\n",
       "      <th>Branch</th>\n",
       "      <th>City</th>\n",
       "      <th>Customer type</th>\n",
       "      <th>Gender</th>\n",
       "      <th>Product line</th>\n",
       "      <th>Unit price</th>\n",
       "      <th>Quantity</th>\n",
       "      <th>Tax 5%</th>\n",
       "      <th>Total</th>\n",
       "      <th>Date</th>\n",
       "      <th>Day</th>\n",
       "      <th>Month</th>\n",
       "      <th>Year</th>\n",
       "      <th>Time</th>\n",
       "      <th>Payment</th>\n",
       "      <th>cogs</th>\n",
       "      <th>gross margin percentage</th>\n",
       "      <th>gross income</th>\n",
       "      <th>Rating</th>\n",
       "    </tr>\n",
       "  </thead>\n",
       "  <tbody>\n",
       "    <tr>\n",
       "      <th>0</th>\n",
       "      <td>750-67-8428</td>\n",
       "      <td>A</td>\n",
       "      <td>Yangon</td>\n",
       "      <td>Member</td>\n",
       "      <td>Female</td>\n",
       "      <td>Health and beauty</td>\n",
       "      <td>74.69</td>\n",
       "      <td>7</td>\n",
       "      <td>26.1415</td>\n",
       "      <td>548.9715</td>\n",
       "      <td>01-05-19</td>\n",
       "      <td>1</td>\n",
       "      <td>5</td>\n",
       "      <td>2019</td>\n",
       "      <td>13:08</td>\n",
       "      <td>Ewallet</td>\n",
       "      <td>522.83</td>\n",
       "      <td>4.761905</td>\n",
       "      <td>26.1415</td>\n",
       "      <td>9.1</td>\n",
       "    </tr>\n",
       "    <tr>\n",
       "      <th>1</th>\n",
       "      <td>226-31-3081</td>\n",
       "      <td>C</td>\n",
       "      <td>Naypyitaw</td>\n",
       "      <td>Normal</td>\n",
       "      <td>Female</td>\n",
       "      <td>Electronic accessories</td>\n",
       "      <td>15.28</td>\n",
       "      <td>5</td>\n",
       "      <td>3.8200</td>\n",
       "      <td>80.2200</td>\n",
       "      <td>03-08-19</td>\n",
       "      <td>3</td>\n",
       "      <td>8</td>\n",
       "      <td>2019</td>\n",
       "      <td>10:29</td>\n",
       "      <td>Cash</td>\n",
       "      <td>76.40</td>\n",
       "      <td>4.761905</td>\n",
       "      <td>3.8200</td>\n",
       "      <td>9.6</td>\n",
       "    </tr>\n",
       "    <tr>\n",
       "      <th>2</th>\n",
       "      <td>631-41-3108</td>\n",
       "      <td>A</td>\n",
       "      <td>Yangon</td>\n",
       "      <td>Normal</td>\n",
       "      <td>Male</td>\n",
       "      <td>Home and lifestyle</td>\n",
       "      <td>46.33</td>\n",
       "      <td>7</td>\n",
       "      <td>16.2155</td>\n",
       "      <td>340.5255</td>\n",
       "      <td>03-03-19</td>\n",
       "      <td>3</td>\n",
       "      <td>3</td>\n",
       "      <td>2019</td>\n",
       "      <td>13:23</td>\n",
       "      <td>Credit card</td>\n",
       "      <td>324.31</td>\n",
       "      <td>4.761905</td>\n",
       "      <td>16.2155</td>\n",
       "      <td>7.4</td>\n",
       "    </tr>\n",
       "    <tr>\n",
       "      <th>3</th>\n",
       "      <td>123-19-1176</td>\n",
       "      <td>A</td>\n",
       "      <td>Yangon</td>\n",
       "      <td>Member</td>\n",
       "      <td>Male</td>\n",
       "      <td>Health and beauty</td>\n",
       "      <td>58.22</td>\n",
       "      <td>8</td>\n",
       "      <td>23.2880</td>\n",
       "      <td>489.0480</td>\n",
       "      <td>27-01-19</td>\n",
       "      <td>27</td>\n",
       "      <td>1</td>\n",
       "      <td>2019</td>\n",
       "      <td>20:33</td>\n",
       "      <td>Ewallet</td>\n",
       "      <td>465.76</td>\n",
       "      <td>4.761905</td>\n",
       "      <td>23.2880</td>\n",
       "      <td>8.4</td>\n",
       "    </tr>\n",
       "    <tr>\n",
       "      <th>4</th>\n",
       "      <td>373-73-7910</td>\n",
       "      <td>A</td>\n",
       "      <td>Yangon</td>\n",
       "      <td>Normal</td>\n",
       "      <td>Male</td>\n",
       "      <td>Sports and travel</td>\n",
       "      <td>86.31</td>\n",
       "      <td>7</td>\n",
       "      <td>30.2085</td>\n",
       "      <td>634.3785</td>\n",
       "      <td>02-08-19</td>\n",
       "      <td>2</td>\n",
       "      <td>8</td>\n",
       "      <td>2019</td>\n",
       "      <td>10:37</td>\n",
       "      <td>Ewallet</td>\n",
       "      <td>604.17</td>\n",
       "      <td>4.761905</td>\n",
       "      <td>30.2085</td>\n",
       "      <td>5.3</td>\n",
       "    </tr>\n",
       "  </tbody>\n",
       "</table>\n",
       "</div>"
      ],
      "text/plain": [
       "    Invoice ID Branch       City Customer type  Gender  \\\n",
       "0  750-67-8428      A     Yangon        Member  Female   \n",
       "1  226-31-3081      C  Naypyitaw        Normal  Female   \n",
       "2  631-41-3108      A     Yangon        Normal    Male   \n",
       "3  123-19-1176      A     Yangon        Member    Male   \n",
       "4  373-73-7910      A     Yangon        Normal    Male   \n",
       "\n",
       "             Product line  Unit price  Quantity   Tax 5%     Total      Date  \\\n",
       "0       Health and beauty       74.69         7  26.1415  548.9715  01-05-19   \n",
       "1  Electronic accessories       15.28         5   3.8200   80.2200  03-08-19   \n",
       "2      Home and lifestyle       46.33         7  16.2155  340.5255  03-03-19   \n",
       "3       Health and beauty       58.22         8  23.2880  489.0480  27-01-19   \n",
       "4       Sports and travel       86.31         7  30.2085  634.3785  02-08-19   \n",
       "\n",
       "   Day  Month  Year   Time      Payment    cogs  gross margin percentage  \\\n",
       "0    1      5  2019  13:08      Ewallet  522.83                 4.761905   \n",
       "1    3      8  2019  10:29         Cash   76.40                 4.761905   \n",
       "2    3      3  2019  13:23  Credit card  324.31                 4.761905   \n",
       "3   27      1  2019  20:33      Ewallet  465.76                 4.761905   \n",
       "4    2      8  2019  10:37      Ewallet  604.17                 4.761905   \n",
       "\n",
       "   gross income  Rating  \n",
       "0       26.1415     9.1  \n",
       "1        3.8200     9.6  \n",
       "2       16.2155     7.4  \n",
       "3       23.2880     8.4  \n",
       "4       30.2085     5.3  "
      ]
     },
     "execution_count": 1,
     "metadata": {},
     "output_type": "execute_result"
    }
   ],
   "source": [
    "import pandas as pd\n",
    "data = pd.read_csv('USupermarket_Sales.csv')\n",
    "data.head(5)"
   ]
  },
  {
   "cell_type": "code",
   "execution_count": 2,
   "id": "bdd21943",
   "metadata": {},
   "outputs": [
    {
     "data": {
      "text/plain": [
       "<bound method NDFrame.describe of       Invoice ID Branch       City Customer type  Gender  \\\n",
       "0    750-67-8428      A     Yangon        Member  Female   \n",
       "1    226-31-3081      C  Naypyitaw        Normal  Female   \n",
       "2    631-41-3108      A     Yangon        Normal    Male   \n",
       "3    123-19-1176      A     Yangon        Member    Male   \n",
       "4    373-73-7910      A     Yangon        Normal    Male   \n",
       "..           ...    ...        ...           ...     ...   \n",
       "995  233-67-5758      C  Naypyitaw        Normal    Male   \n",
       "996  303-96-2227      B   Mandalay        Normal  Female   \n",
       "997  727-02-1313      A     Yangon        Member    Male   \n",
       "998  347-56-2442      A     Yangon        Normal    Male   \n",
       "999  849-09-3807      A     Yangon        Member  Female   \n",
       "\n",
       "               Product line  Unit price  Quantity   Tax 5%      Total  \\\n",
       "0         Health and beauty       74.69         7  26.1415   548.9715   \n",
       "1    Electronic accessories       15.28         5   3.8200    80.2200   \n",
       "2        Home and lifestyle       46.33         7  16.2155   340.5255   \n",
       "3         Health and beauty       58.22         8  23.2880   489.0480   \n",
       "4         Sports and travel       86.31         7  30.2085   634.3785   \n",
       "..                      ...         ...       ...      ...        ...   \n",
       "995       Health and beauty       40.35         1   2.0175    42.3675   \n",
       "996      Home and lifestyle       97.38        10  48.6900  1022.4900   \n",
       "997      Food and beverages       31.84         1   1.5920    33.4320   \n",
       "998      Home and lifestyle       65.82         1   3.2910    69.1110   \n",
       "999     Fashion accessories       88.34         7  30.9190   649.2990   \n",
       "\n",
       "         Date  Day  Month  Year   Time      Payment    cogs  \\\n",
       "0    01-05-19    1      5  2019  13:08      Ewallet  522.83   \n",
       "1    03-08-19    3      8  2019  10:29         Cash   76.40   \n",
       "2    03-03-19    3      3  2019  13:23  Credit card  324.31   \n",
       "3    27-01-19   27      1  2019  20:33      Ewallet  465.76   \n",
       "4    02-08-19    2      8  2019  10:37      Ewallet  604.17   \n",
       "..        ...  ...    ...   ...    ...          ...     ...   \n",
       "995  29-01-19   29      1  2019  13:46      Ewallet   40.35   \n",
       "996  03-02-19    3      2  2019  17:16      Ewallet  973.80   \n",
       "997  02-09-19    2      9  2019  13:22         Cash   31.84   \n",
       "998  22-02-19   22      2  2019  15:33         Cash   65.82   \n",
       "999  18-02-19   18      2  2019  13:28         Cash  618.38   \n",
       "\n",
       "     gross margin percentage  gross income  Rating  \n",
       "0                   4.761905       26.1415     9.1  \n",
       "1                   4.761905        3.8200     9.6  \n",
       "2                   4.761905       16.2155     7.4  \n",
       "3                   4.761905       23.2880     8.4  \n",
       "4                   4.761905       30.2085     5.3  \n",
       "..                       ...           ...     ...  \n",
       "995                 4.761905        2.0175     6.2  \n",
       "996                 4.761905       48.6900     4.4  \n",
       "997                 4.761905        1.5920     7.7  \n",
       "998                 4.761905        3.2910     4.1  \n",
       "999                 4.761905       30.9190     6.6  \n",
       "\n",
       "[1000 rows x 20 columns]>"
      ]
     },
     "execution_count": 2,
     "metadata": {},
     "output_type": "execute_result"
    }
   ],
   "source": [
    "data.describe"
   ]
  },
  {
   "cell_type": "code",
   "execution_count": 3,
   "id": "6d0fdfc9",
   "metadata": {},
   "outputs": [
    {
     "data": {
      "text/plain": [
       "Invoice ID                 0\n",
       "Branch                     0\n",
       "City                       0\n",
       "Customer type              0\n",
       "Gender                     0\n",
       "Product line               0\n",
       "Unit price                 0\n",
       "Quantity                   0\n",
       "Tax 5%                     0\n",
       "Total                      0\n",
       "Date                       0\n",
       "Day                        0\n",
       "Month                      0\n",
       "Year                       0\n",
       "Time                       0\n",
       "Payment                    0\n",
       "cogs                       0\n",
       "gross margin percentage    0\n",
       "gross income               0\n",
       "Rating                     0\n",
       "dtype: int64"
      ]
     },
     "execution_count": 3,
     "metadata": {},
     "output_type": "execute_result"
    }
   ],
   "source": [
    "data.isnull().sum()"
   ]
  },
  {
   "cell_type": "code",
   "execution_count": 4,
   "id": "5504d315",
   "metadata": {},
   "outputs": [
    {
     "data": {
      "text/plain": [
       "Index(['Invoice ID', 'Branch', 'City', 'Customer type', 'Gender',\n",
       "       'Product line', 'Unit price', 'Quantity', 'Tax 5%', 'Total', 'Date',\n",
       "       'Day', 'Month', 'Year', 'Time', 'Payment', 'cogs',\n",
       "       'gross margin percentage', 'gross income', 'Rating'],\n",
       "      dtype='object')"
      ]
     },
     "execution_count": 4,
     "metadata": {},
     "output_type": "execute_result"
    }
   ],
   "source": [
    "data.columns"
   ]
  },
  {
   "cell_type": "code",
   "execution_count": 5,
   "id": "b19bd12e",
   "metadata": {},
   "outputs": [
    {
     "data": {
      "text/plain": [
       "(1000, 20)"
      ]
     },
     "execution_count": 5,
     "metadata": {},
     "output_type": "execute_result"
    }
   ],
   "source": [
    "data.shape"
   ]
  },
  {
   "cell_type": "code",
   "execution_count": 6,
   "id": "e02c22bd",
   "metadata": {},
   "outputs": [
    {
     "name": "stdout",
     "output_type": "stream",
     "text": [
      "<class 'pandas.core.frame.DataFrame'>\n",
      "RangeIndex: 1000 entries, 0 to 999\n",
      "Data columns (total 20 columns):\n",
      " #   Column                   Non-Null Count  Dtype  \n",
      "---  ------                   --------------  -----  \n",
      " 0   Invoice ID               1000 non-null   object \n",
      " 1   Branch                   1000 non-null   object \n",
      " 2   City                     1000 non-null   object \n",
      " 3   Customer type            1000 non-null   object \n",
      " 4   Gender                   1000 non-null   object \n",
      " 5   Product line             1000 non-null   object \n",
      " 6   Unit price               1000 non-null   float64\n",
      " 7   Quantity                 1000 non-null   int64  \n",
      " 8   Tax 5%                   1000 non-null   float64\n",
      " 9   Total                    1000 non-null   float64\n",
      " 10  Date                     1000 non-null   object \n",
      " 11  Day                      1000 non-null   int64  \n",
      " 12  Month                    1000 non-null   int64  \n",
      " 13  Year                     1000 non-null   int64  \n",
      " 14  Time                     1000 non-null   object \n",
      " 15  Payment                  1000 non-null   object \n",
      " 16  cogs                     1000 non-null   float64\n",
      " 17  gross margin percentage  1000 non-null   float64\n",
      " 18  gross income             1000 non-null   float64\n",
      " 19  Rating                   1000 non-null   float64\n",
      "dtypes: float64(7), int64(4), object(9)\n",
      "memory usage: 156.4+ KB\n"
     ]
    }
   ],
   "source": [
    "data.info()"
   ]
  },
  {
   "cell_type": "markdown",
   "id": "78422ab4",
   "metadata": {},
   "source": [
    "### 1.Find which product sold highest in 2019 and draw the graph for that product's sales in each month."
   ]
  },
  {
   "cell_type": "code",
   "execution_count": 7,
   "id": "6ea1a808",
   "metadata": {},
   "outputs": [],
   "source": [
    "import matplotlib.pyplot as plt\n",
    "import seaborn as sns"
   ]
  },
  {
   "cell_type": "code",
   "execution_count": 8,
   "id": "015cb9f7",
   "metadata": {
    "scrolled": false
   },
   "outputs": [
    {
     "data": {
      "text/plain": [
       "<AxesSubplot:xlabel='Product line', ylabel='gross income'>"
      ]
     },
     "execution_count": 8,
     "metadata": {},
     "output_type": "execute_result"
    },
    {
     "data": {
      "image/png": "[encoded data removed]",
      "text/plain": [
       "<Figure size 1584x576 with 1 Axes>"
      ]
     },
     "metadata": {
      "needs_background": "light"
     },
     "output_type": "display_data"
    }
   ],
   "source": [
    "df=data[[\"Product line\", \"gross income\",\"Month\"]].groupby(['Product line','Month'], as_index=False).sum().sort_values(by='gross income', ascending=False)\n",
    "plt.figure(figsize=(22,8))\n",
    "sns.barplot(x='Product line', y='gross income', hue='Month', data=df)"
   ]
  },
  {
   "cell_type": "markdown",
   "id": "4ad788d2",
   "metadata": {},
   "source": [
    "### 2.Find which product sold lowest in 2019 and draw the graph for that product's each month sales count."
   ]
  },
  {
   "cell_type": "code",
   "execution_count": 9,
   "id": "504ebcb4",
   "metadata": {},
   "outputs": [
    {
     "data": {
      "text/plain": [
       "<AxesSubplot:xlabel='Product line', ylabel='count'>"
      ]
     },
     "execution_count": 9,
     "metadata": {},
     "output_type": "execute_result"
    },
    {
     "data": {
      "image/png": "[encoded data removed]",
      "text/plain": [
       "<Figure size 1584x576 with 1 Axes>"
      ]
     },
     "metadata": {
      "needs_background": "light"
     },
     "output_type": "display_data"
    }
   ],
   "source": [
    "df=data[[\"Product line\", \"gross income\", \"Month\"]].groupby(['Product line','gross income'], as_index=False).sum().sort_values(by='gross income',ascending=True)\n",
    "plt.figure(figsize=(22,8))\n",
    "sns.countplot(x='Product line',hue='Month',data=df)"
   ]
  },
  {
   "cell_type": "markdown",
   "id": "9ee8ce5a",
   "metadata": {},
   "source": [
    "### 3.Draw graph using multiple bar graph, find which product sales is less than or equal to 5 numbers and show its gross income of each invoice bill in the month of May"
   ]
  },
  {
   "cell_type": "code",
   "execution_count": 61,
   "id": "09eabdf9",
   "metadata": {},
   "outputs": [],
   "source": [
    "df= data[(data['Quantity']<=5)]"
   ]
  },
  {
   "cell_type": "code",
   "execution_count": 62,
   "id": "5f82703b",
   "metadata": {},
   "outputs": [],
   "source": [
    "df = df[(df['Month']==5)]"
   ]
  },
  {
   "cell_type": "code",
   "execution_count": 63,
   "id": "f35087c5",
   "metadata": {
    "scrolled": false
   },
   "outputs": [],
   "source": [
    "df = df[['Invoice ID','Product line','gross income']]"
   ]
  },
  {
   "cell_type": "code",
   "execution_count": 72,
   "id": "97aaee82",
   "metadata": {},
   "outputs": [
    {
     "data": {
      "image/png": "[encoded data removed]",
      "text/plain": [
       "<Figure size 1224x432 with 1 Axes>"
      ]
     },
     "metadata": {
      "needs_background": "light"
     },
     "output_type": "display_data"
    }
   ],
   "source": [
    "plt.figure(figsize=(17,6))\n",
    "sns.barplot(x='Invoice ID',y='gross income',hue='Product line',data=df)\n",
    "plt.xticks(rotation=75)\n",
    "plt.show()"
   ]
  },
  {
   "cell_type": "markdown",
   "id": "ebff84cf",
   "metadata": {},
   "source": [
    "### 4.Show each month sales count of Electronic accessories using scatter plot."
   ]
  },
  {
   "cell_type": "code",
   "execution_count": 31,
   "id": "83367ab0",
   "metadata": {},
   "outputs": [],
   "source": [
    "elec = data[(data['Product line'] == 'Electronic accessories')]"
   ]
  },
  {
   "cell_type": "code",
   "execution_count": 32,
   "id": "00e91b68",
   "metadata": {},
   "outputs": [
    {
     "data": {
      "image/png": "[encoded data removed]",
      "text/plain": [
       "<Figure size 680x510 with 1 Axes>"
      ]
     },
     "metadata": {
      "needs_background": "light"
     },
     "output_type": "display_data"
    }
   ],
   "source": [
    "plt.figure(figsize=(8,6),dpi=85)\n",
    "plt.scatter(elec['Month'], elec['gross income'],c='DarkBlue')\n",
    "plt.show()"
   ]
  },
  {
   "cell_type": "markdown",
   "id": "4026e90a",
   "metadata": {},
   "source": [
    "### 5.Using multiple line graph, show highest sales product and lowest sales product in the year2019. Graph have to show monthly wise sales."
   ]
  },
  {
   "cell_type": "code",
   "execution_count": 59,
   "id": "b0f86632",
   "metadata": {
    "scrolled": false
   },
   "outputs": [
    {
     "data": {
      "image/png": "[encoded data removed]",
      "text/plain": [
       "<Figure size 1080x648 with 1 Axes>"
      ]
     },
     "metadata": {
      "needs_background": "light"
     },
     "output_type": "display_data"
    }
   ],
   "source": [
    "plt.figure(figsize=(15,9))\n",
    "sns.countplot(x='Month',hue='Product line',data=data)\n",
    "plt.xticks(rotation=60)\n",
    "plt.show()"
   ]
  },
  {
   "cell_type": "markdown",
   "id": "d1a49a81",
   "metadata": {},
   "source": [
    "### 6.Using stacked bar, show each month highest profit products sold numbers and each month lowest profit products sold numbers"
   ]
  },
  {
   "cell_type": "code",
   "execution_count": 98,
   "id": "93dbb343",
   "metadata": {},
   "outputs": [],
   "source": [
    "import plotly.express as px\n",
    "fig = px.bar(data, y=\"gross income\", x=\"Month\", color=\"Product line\", barmode = 'stack')"
   ]
  },
  {
   "cell_type": "markdown",
   "id": "a6cbe0c1",
   "metadata": {},
   "source": [
    "### While converting ipynb to pdf this plotly image won't appear so i downloaded and printed the image by the below code."
   ]
  },
  {
   "cell_type": "code",
   "execution_count": 101,
   "id": "84f6057a",
   "metadata": {},
   "outputs": [],
   "source": [
    "import os\n",
    "if not os.path.exists(\"images\"):\n",
    "    os.mkdir(\"images\")\n",
    "    \n",
    "fig.write_image(\"images/fig1.png\")"
   ]
  },
  {
   "cell_type": "code",
   "execution_count": 104,
   "id": "b4e9fc79",
   "metadata": {},
   "outputs": [
    {
     "data": {
      "text/plain": [
       "(-0.5, 699.5, 499.5, -0.5)"
      ]
     },
     "execution_count": 104,
     "metadata": {},
     "output_type": "execute_result"
    },
    {
     "data": {
      "image/png": "[encoded data removed]",
      "text/plain": [
       "<Figure size 1296x720 with 1 Axes>"
      ]
     },
     "metadata": {
      "needs_background": "light"
     },
     "output_type": "display_data"
    }
   ],
   "source": [
    "%matplotlib inline\n",
    "import imageio\n",
    "import matplotlib.pyplot as plt\n",
    "import matplotlib.cbook\n",
    "\n",
    "pic=imageio.imread('fig1.png')\n",
    "plt.figure(figsize=(18,10))\n",
    "plt.imshow(pic)\n",
    "plt.axis('off')"
   ]
  },
  {
   "cell_type": "markdown",
   "id": "c82c00b5",
   "metadata": {},
   "source": [
    "#### This only appear in ipynb"
   ]
  },
  {
   "cell_type": "code",
   "execution_count": 105,
   "id": "aac973bd",
   "metadata": {
    "scrolled": false
   },
   "outputs": [
    {
     "data": {
      "application/vnd.plotly.v1+json": {
       "config": {
        "plotlyServerURL": "https://plot.ly"
       },
       "data": [
        {
         "alignmentgroup": "True",
         "hovertemplate": "Product line=Health and beauty<br>Month=%{x}<br>gross income=%{y}<extra></extra>",
         "legendgroup": "Health and beauty",
         "marker": {
          "color": "#636efa"
         },
         "name": "Health and beauty",
         "offsetgroup": "Health and beauty",
         "orientation": "v",
         "showlegend": true,
         "textposition": "auto",
         "type": "bar",
         "x": [
          5,
          1,
          10,
          3,
          11,
          5,
          3,
          3,
          3,
          3,
          2,
          7,
          2,
          3,
          10,
          2,
          1,
          1,
          2,
          12,
          6,
          3,
          3,
          5,
          8,
          1,
          5,
          8,
          3,
          3,
          3,
          2,
          3,
          1,
          1,
          3,
          12,
          6,
          3,
          1,
          11,
          9,
          1,
          11,
          3,
          2,
          4,
          12,
          2,
          3,
          12,
          7,
          11,
          2,
          1,
          2,
          1,
          5,
          2,
          2,
          2,
          6,
          1,
          5,
          2,
          4,
          1,
          1,
          12,
          1,
          1,
          12,
          3,
          8,
          3,
          2,
          5,
          3,
          3,
          1,
          12,
          3,
          5,
          3,
          1,
          1,
          9,
          4,
          3,
          1,
          3,
          1,
          3,
          3,
          1,
          2,
          2,
          2,
          2,
          7,
          4,
          6,
          3,
          4,
          6,
          6,
          2,
          10,
          1,
          3,
          1,
          2,
          5,
          2,
          2,
          1,
          1,
          2,
          3,
          1,
          3,
          1,
          4,
          1,
          2,
          2,
          1,
          1,
          2,
          1,
          1,
          2,
          1,
          2,
          3,
          2,
          9,
          3,
          1,
          1,
          5,
          2,
          2,
          3,
          2,
          3,
          1,
          1,
          2,
          3,
          1,
          1
         ],
         "xaxis": "x",
         "y": [
          26.1415,
          23.288,
          3.626,
          35.69,
          24.1255,
          13.197,
          11.2005,
          9.658,
          21.968,
          1.537,
          25.5105,
          35.84,
          15.148,
          7.935,
          3.347,
          0.9165,
          5.095,
          29.757,
          23.097,
          28.962,
          4.4875,
          43.935,
          10.6225,
          14.7315,
          24.39,
          45.25,
          34.3,
          13.878,
          13.228,
          12.984,
          43.749,
          17.028,
          17.5025,
          13.02,
          13.724,
          4.37,
          8.3,
          12.95,
          10.3635,
          31.2165,
          37.8405,
          25.97,
          4.3525,
          5.977,
          2.112,
          29.913,
          29.949,
          9.534,
          16.67,
          9.055,
          1.9505,
          6.9975,
          10.3845,
          8.814,
          1.971,
          4.578,
          10.226,
          19.5895,
          26.915,
          6.75,
          16.16,
          3.987,
          19.375,
          12.318,
          17.105,
          5.2425,
          4.8055,
          4.0755,
          5.722,
          18.6095,
          0.9575,
          1.3535,
          1.25,
          13.0025,
          29.028,
          9.777,
          10.128,
          15.3225,
          13.715,
          6.287,
          7.629,
          3.794,
          26.208,
          12.854,
          6.951,
          15.536,
          10.342,
          3.655,
          13.959,
          2.223,
          41.29,
          33.235,
          10.1325,
          21.063,
          16.743,
          3.594,
          14.313,
          11.0115,
          13.456,
          29.475,
          24.315,
          36.2115,
          25.1195,
          6.2325,
          8.92,
          11.4,
          8.4,
          40.975,
          28.4305,
          2.6725,
          11.1,
          30.0545,
          22.8585,
          8.72,
          2.54,
          2.7475,
          9.0705,
          13.71,
          4.639,
          0.8875,
          4.3,
          19.232,
          10.3065,
          32.4495,
          12.514,
          4.565,
          18.6165,
          23.9875,
          17.277,
          5.0715,
          6.282,
          20.915,
          39.664,
          29.96,
          6.9325,
          5.832,
          42.305,
          20.72,
          17.829,
          22.428,
          27.6115,
          13.8135,
          12.6975,
          3.528,
          5.9865,
          2.37,
          11.63,
          34.986,
          1.476,
          24.8,
          30.148,
          2.0175
         ],
         "yaxis": "y"
        },
        {
         "alignmentgroup": "True",
         "hovertemplate": "Product line=Electronic accessories<br>Month=%{x}<br>gross income=%{y}<extra></extra>",
         "legendgroup": "Electronic accessories",
         "marker": {
          "color": "#EF553B"
         },
         "name": "Electronic accessories",
         "offsetgroup": "Electronic accessories",
         "orientation": "v",
         "showlegend": true,
         "textposition": "auto",
         "type": "bar",
         "x": [
          8,
          3,
          2,
          9,
          12,
          2,
          2,
          1,
          9,
          10,
          2,
          12,
          9,
          1,
          8,
          9,
          1,
          12,
          3,
          2,
          2,
          1,
          4,
          3,
          1,
          3,
          3,
          1,
          4,
          2,
          1,
          2,
          1,
          2,
          1,
          2,
          12,
          2,
          9,
          7,
          1,
          2,
          7,
          3,
          1,
          3,
          2,
          3,
          3,
          3,
          2,
          3,
          3,
          10,
          10,
          3,
          3,
          3,
          10,
          4,
          3,
          1,
          4,
          1,
          3,
          6,
          2,
          1,
          3,
          2,
          4,
          4,
          1,
          1,
          7,
          1,
          2,
          1,
          7,
          1,
          2,
          3,
          7,
          1,
          2,
          1,
          1,
          3,
          3,
          6,
          1,
          1,
          7,
          3,
          3,
          1,
          3,
          1,
          7,
          3,
          5,
          3,
          3,
          3,
          2,
          2,
          1,
          3,
          2,
          1,
          12,
          2,
          1,
          2,
          1,
          1,
          1,
          12,
          2,
          2,
          1,
          3,
          1,
          4,
          2,
          2,
          2,
          3,
          2,
          8,
          2,
          3,
          1,
          3,
          3,
          1,
          1,
          1,
          2,
          1,
          1,
          2,
          8,
          1,
          2,
          3,
          1,
          3,
          7,
          6,
          6,
          1,
          1,
          2,
          2,
          10,
          2,
          5,
          3,
          7,
          5,
          3,
          2,
          11,
          1,
          10,
          9,
          3,
          10,
          2
         ],
         "xaxis": "x",
         "y": [
          3.82,
          29.8865,
          20.652,
          5.102,
          11.7375,
          21.51,
          8.64,
          27.396,
          18.792,
          5.679,
          34.392,
          9.183,
          22.773,
          20.825,
          4.858,
          3.735,
          10.3815,
          44.335,
          40.985,
          39.824,
          26.235,
          6.5775,
          3.6085,
          8.34,
          15.867,
          8.1775,
          11.498,
          21.4935,
          29.9925,
          44.8785,
          11.8035,
          14.196,
          13.605,
          2.9525,
          7.412,
          27.21,
          1.5885,
          3.305,
          12.21,
          15.544,
          3.3175,
          6.45,
          13.188,
          33.777,
          20.15,
          9.7475,
          3.124,
          12.98,
          5.768,
          10.238,
          5.984,
          25.27,
          3.972,
          39.065,
          18.6975,
          7.272,
          7.1125,
          7.1475,
          7.2135,
          3.5975,
          9.107,
          18.0915,
          1.512,
          4.125,
          23.094,
          9.675,
          9.191,
          4.73,
          2.661,
          3.841,
          8.658,
          8.827,
          12.6075,
          7.038,
          16.344,
          22.413,
          6.603,
          4.154,
          39.695,
          23.285,
          4.942,
          16.11,
          16.814,
          1.93,
          16.4,
          6.322,
          9.672,
          34.8425,
          6.8565,
          11.475,
          5.631,
          19.818,
          6.663,
          6.762,
          9.711,
          16.968,
          22.353,
          4.154,
          1.448,
          21.9775,
          11.7465,
          2.31,
          35.42,
          5.567,
          3.0125,
          12.37,
          18.915,
          2.3535,
          4.9845,
          22.74,
          1.974,
          31.311,
          8.6,
          34.9335,
          1.791,
          26.558,
          29.38,
          36.624,
          8.71,
          14.296,
          36.065,
          19.128,
          39.5415,
          26.103,
          28.756,
          32.41,
          4.661,
          12.08,
          34.0155,
          10.046,
          20.13,
          4.7575,
          19.448,
          10.578,
          32.475,
          37.11,
          4.224,
          27.935,
          3.015,
          14.067,
          3.663,
          26.395,
          11.9385,
          10.715,
          1.9875,
          36.008,
          4.84,
          36.735,
          23.164,
          7.095,
          15.135,
          20.178,
          11.226,
          10.647,
          3.939,
          2.756,
          39.7125,
          32.858,
          8.425,
          13.806,
          2.089,
          14.523,
          3.827,
          8.6225,
          30.478,
          1.2725,
          33.7295,
          41.17,
          5.803,
          3.0475
         ],
         "yaxis": "y"
        },
        {
         "alignmentgroup": "True",
         "hovertemplate": "Product line=Home and lifestyle<br>Month=%{x}<br>gross income=%{y}<extra></extra>",
         "legendgroup": "Home and lifestyle",
         "marker": {
          "color": "#00cc96"
         },
         "name": "Home and lifestyle",
         "offsetgroup": "Home and lifestyle",
         "orientation": "v",
         "showlegend": true,
         "textposition": "auto",
         "type": "bar",
         "x": [
          3,
          2,
          11,
          3,
          3,
          3,
          1,
          2,
          7,
          3,
          1,
          2,
          1,
          1,
          5,
          1,
          1,
          1,
          3,
          10,
          2,
          1,
          6,
          7,
          1,
          3,
          3,
          8,
          10,
          1,
          11,
          1,
          3,
          2,
          3,
          3,
          3,
          11,
          5,
          2,
          1,
          3,
          6,
          5,
          3,
          5,
          4,
          7,
          1,
          7,
          2,
          6,
          3,
          3,
          10,
          1,
          1,
          2,
          1,
          7,
          1,
          2,
          1,
          3,
          3,
          3,
          5,
          3,
          12,
          4,
          4,
          3,
          8,
          8,
          8,
          1,
          1,
          12,
          1,
          4,
          5,
          1,
          9,
          5,
          1,
          1,
          3,
          6,
          11,
          7,
          7,
          1,
          3,
          1,
          3,
          2,
          1,
          3,
          8,
          1,
          1,
          3,
          1,
          3,
          8,
          1,
          1,
          6,
          12,
          2,
          3,
          3,
          8,
          9,
          3,
          3,
          3,
          2,
          1,
          3,
          1,
          11,
          5,
          1,
          3,
          1,
          1,
          11,
          3,
          2,
          12,
          7,
          2,
          3,
          12,
          3,
          3,
          3,
          9,
          3,
          1,
          7,
          2,
          10,
          8,
          2,
          3,
          3,
          1,
          1,
          6,
          9,
          9,
          9,
          4,
          1,
          10,
          11,
          2,
          2
         ],
         "xaxis": "x",
         "y": [
          16.2155,
          36.78,
          4.03,
          3.32,
          21.036,
          12.048,
          4.336,
          5.611,
          1.616,
          4.434,
          36.175,
          16.719,
          33.6015,
          9.476,
          24.81,
          26.1315,
          36.3555,
          5.344,
          25.564,
          32.7915,
          10.326,
          23.385,
          28.744,
          12.57,
          47.79,
          15.228,
          37.796,
          9.294,
          3.7035,
          13.962,
          11.556,
          5.11,
          1.2645,
          4.4425,
          14.265,
          23.09,
          0.914,
          25.368,
          12.53,
          37.548,
          19.036,
          4.75,
          23.56,
          7.773,
          7.094,
          14.148,
          17.77,
          9.693,
          1.203,
          10.91,
          27.984,
          1.85,
          3.743,
          33.208,
          23.514,
          12.002,
          4.4305,
          35.516,
          6.456,
          9.909,
          35.7,
          12.15,
          21.966,
          13.188,
          21.033,
          16.7725,
          15.921,
          6.1155,
          9.244,
          0.699,
          11.306,
          20.372,
          9.076,
          45.325,
          10.197,
          40.1445,
          25.131,
          30.19,
          1.148,
          34.956,
          6.06,
          6.94,
          4.785,
          10.7275,
          9.8475,
          3.473,
          24.951,
          11.232,
          7.08,
          5.8345,
          4.897,
          4.602,
          7.762,
          5.622,
          10.863,
          20.51,
          8.484,
          7.032,
          6.35,
          33.1065,
          7.995,
          14.955,
          8.712,
          36.39,
          4.91,
          31.78,
          21.8425,
          12.438,
          48.75,
          39.7755,
          15.106,
          6.618,
          8.3355,
          18.263,
          28.42,
          42.282,
          19.4635,
          3.769,
          2.6325,
          5.5305,
          18.32,
          28.956,
          38.184,
          3.429,
          17.604,
          48.685,
          3.0435,
          21.6725,
          15.494,
          4.768,
          14.2555,
          5.662,
          4.3135,
          5.076,
          17.8745,
          4.658,
          26.104,
          10.326,
          9.194,
          15.676,
          24.505,
          37.248,
          10.3455,
          16.1055,
          4.911,
          1.273,
          29.976,
          18.945,
          12.858,
          22.84,
          8.9525,
          3.285,
          19.773,
          7.9,
          14.985,
          12.1515,
          12.9185,
          12.012,
          48.69,
          3.291
         ],
         "yaxis": "y"
        },
        {
         "alignmentgroup": "True",
         "hovertemplate": "Product line=Sports and travel<br>Month=%{x}<br>gross income=%{y}<extra></extra>",
         "legendgroup": "Sports and travel",
         "marker": {
          "color": "#ab63fa"
         },
         "name": "Sports and travel",
         "offsetgroup": "Sports and travel",
         "orientation": "v",
         "showlegend": true,
         "textposition": "auto",
         "type": "bar",
         "x": [
          8,
          1,
          1,
          2,
          1,
          10,
          7,
          10,
          8,
          2,
          3,
          6,
          1,
          9,
          5,
          2,
          1,
          10,
          3,
          5,
          12,
          9,
          1,
          8,
          6,
          10,
          2,
          3,
          1,
          11,
          1,
          3,
          2,
          1,
          1,
          3,
          4,
          1,
          4,
          11,
          3,
          11,
          1,
          2,
          9,
          2,
          12,
          6,
          3,
          6,
          1,
          3,
          1,
          12,
          3,
          2,
          2,
          9,
          3,
          1,
          2,
          11,
          1,
          9,
          1,
          1,
          10,
          2,
          3,
          1,
          3,
          1,
          3,
          3,
          2,
          3,
          1,
          3,
          3,
          8,
          1,
          3,
          3,
          1,
          2,
          3,
          3,
          2,
          8,
          1,
          2,
          1,
          2,
          2,
          2,
          7,
          1,
          3,
          2,
          1,
          3,
          1,
          4,
          7,
          5,
          3,
          2,
          3,
          1,
          3,
          1,
          9,
          1,
          1,
          6,
          1,
          3,
          1,
          2,
          1,
          2,
          1,
          1,
          8,
          3,
          1,
          1,
          1,
          1,
          5,
          12,
          2,
          2,
          2,
          2,
          3,
          3,
          11,
          1,
          2,
          12,
          1,
          8,
          7,
          2,
          1,
          9,
          2,
          1,
          2,
          1,
          8,
          3,
          6,
          1,
          2,
          1,
          3,
          3,
          10,
          3,
          2,
          2,
          3,
          3,
          1
         ],
         "xaxis": "x",
         "y": [
          30.2085,
          28.116,
          21.783,
          13.2945,
          35.1315,
          33.512,
          3.406,
          15.655,
          20.736,
          3.711,
          24.7815,
          7.905,
          39.385,
          12.2275,
          29.071,
          2.1235,
          22.43,
          7.693,
          18.639,
          1.649,
          19.992,
          44.982,
          8.0625,
          40.626,
          27.639,
          6.968,
          25.955,
          29,
          44.9,
          12.096,
          32.388,
          28.017,
          3.1845,
          7.64,
          24.332,
          7.75,
          4.319,
          5.745,
          6.963,
          10.3635,
          6.1925,
          8.716,
          9.314,
          1.439,
          11.12,
          2.7225,
          34.44,
          16.8575,
          22.01,
          0.767,
          10.6875,
          14.0805,
          23.979,
          19.548,
          3.675,
          17.385,
          6.6975,
          47.72,
          3.7485,
          7.18,
          33.4215,
          16.466,
          3.791,
          26.13,
          13.452,
          2.187,
          3.876,
          16.8175,
          44.658,
          16.586,
          35.372,
          6.685,
          1.956,
          14.79,
          27.275,
          11.106,
          8.01,
          8.315,
          17.185,
          9.285,
          18.49,
          9.898,
          30.368,
          4.9065,
          20.608,
          3.6985,
          9.331,
          4.4225,
          7.275,
          31.759,
          20.4365,
          17.98,
          22.8525,
          44.1405,
          4.036,
          27.4275,
          12.885,
          24.665,
          25.893,
          13.335,
          21.4775,
          9.459,
          10.765,
          2.279,
          11.28,
          14.52,
          20.997,
          16.353,
          4.0465,
          17.424,
          21.78,
          6.087,
          32.095,
          1.549,
          16.794,
          6.9825,
          6.4455,
          5.999,
          9.88,
          4.062,
          22.428,
          1.7405,
          6.924,
          6.483,
          7.288,
          31.5855,
          5.408,
          3.855,
          40.7835,
          34.87,
          7.163,
          12.668,
          4.107,
          19.108,
          23.7965,
          4.669,
          6.3125,
          18.952,
          20.6185,
          12.245,
          6.903,
          9.318,
          16.2425,
          0.5085,
          21.028,
          4.402,
          4.74,
          13.389,
          8.766,
          3.947,
          1.119,
          1.276,
          36.212,
          12.918,
          26.718,
          15.995,
          15.953,
          38.46,
          2.1425,
          29.099,
          10.566,
          4.4155,
          2.531,
          22.37,
          43.866,
          38.3
         ],
         "yaxis": "y"
        },
        {
         "alignmentgroup": "True",
         "hovertemplate": "Product line=Food and beverages<br>Month=%{x}<br>gross income=%{y}<extra></extra>",
         "legendgroup": "Food and beverages",
         "marker": {
          "color": "#FFA15A"
         },
         "name": "Food and beverages",
         "offsetgroup": "Food and beverages",
         "orientation": "v",
         "showlegend": true,
         "textposition": "auto",
         "type": "bar",
         "x": [
          2,
          7,
          1,
          1,
          6,
          4,
          6,
          3,
          10,
          6,
          5,
          5,
          1,
          1,
          2,
          3,
          3,
          3,
          3,
          2,
          8,
          2,
          7,
          2,
          1,
          3,
          2,
          1,
          1,
          1,
          3,
          3,
          1,
          5,
          3,
          2,
          1,
          10,
          6,
          3,
          11,
          1,
          2,
          8,
          1,
          1,
          2,
          1,
          2,
          9,
          2,
          9,
          12,
          2,
          3,
          5,
          1,
          7,
          2,
          2,
          7,
          2,
          1,
          1,
          6,
          11,
          10,
          3,
          3,
          11,
          3,
          3,
          8,
          8,
          1,
          2,
          3,
          2,
          2,
          3,
          3,
          3,
          3,
          9,
          2,
          1,
          1,
          1,
          7,
          3,
          1,
          5,
          1,
          2,
          11,
          1,
          10,
          1,
          2,
          1,
          7,
          3,
          2,
          3,
          3,
          1,
          9,
          3,
          1,
          3,
          3,
          1,
          1,
          3,
          8,
          2,
          3,
          12,
          2,
          3,
          2,
          11,
          2,
          12,
          1,
          3,
          1,
          2,
          11,
          4,
          1,
          1,
          2,
          3,
          2,
          3,
          11,
          6,
          1,
          1,
          3,
          1,
          3,
          2,
          8,
          1,
          1,
          8,
          2,
          8,
          3,
          5,
          5,
          9,
          1,
          3,
          3,
          2,
          2,
          3,
          2,
          2,
          2,
          1,
          10,
          2,
          1,
          1,
          4,
          2,
          4,
          1,
          3,
          9
         ],
         "xaxis": "x",
         "y": [
          8.226,
          21.595,
          8.2005,
          22.09,
          19.884,
          39.48,
          9.0045,
          31.99,
          11.1475,
          44.74,
          7.278,
          39.155,
          14.502,
          7.7,
          16.072,
          17.283,
          7.9125,
          17.478,
          15.291,
          5.48,
          27.416,
          1.5205,
          4.944,
          23.0725,
          17.272,
          16.0265,
          19.95,
          15.384,
          20.0125,
          7.916,
          8.868,
          22.164,
          15.388,
          2.712,
          39.51,
          17.8475,
          41.967,
          8.601,
          21.728,
          4.325,
          11.223,
          25.571,
          20.9475,
          37.3,
          16.9785,
          3.636,
          2.4305,
          3.5575,
          9.937,
          3.162,
          10.3185,
          24.945,
          18.852,
          4.935,
          2.348,
          19.269,
          24.2575,
          17.828,
          32.384,
          37.788,
          9.979,
          8.248,
          24.9225,
          14.978,
          10.235,
          14.031,
          6.377,
          13.5675,
          11.829,
          3.4475,
          5.79,
          3.1305,
          4.327,
          3.408,
          4.36,
          13.83,
          15.9025,
          34.83,
          1.7945,
          10.13,
          36.525,
          1.131,
          12.835,
          1.079,
          26.388,
          27.072,
          25.215,
          24.513,
          27.18,
          7.3395,
          26.244,
          3.56,
          49.26,
          12.498,
          44.6,
          40.605,
          3.5455,
          7.239,
          12.06,
          6.354,
          4.083,
          7.851,
          7.83,
          38.78,
          9.958,
          5.789,
          44.5365,
          33.725,
          29.559,
          10.752,
          4.5805,
          7.888,
          8.377,
          11.9865,
          4.4075,
          14.8185,
          29.008,
          43.55,
          8.661,
          9.34,
          14.694,
          14.55,
          10.065,
          19.264,
          23.67,
          4.848,
          3.449,
          24.186,
          12.8695,
          4.668,
          2.686,
          4.2415,
          1.921,
          6.82,
          9.425,
          11.078,
          38.6,
          2.621,
          6.565,
          7.215,
          21.284,
          13.552,
          11.79,
          1.487,
          32.796,
          8.448,
          21.4335,
          3.6465,
          8.687,
          16.605,
          8.334,
          4.395,
          14.181,
          15.768,
          4.0355,
          7.954,
          4.3725,
          14.94,
          37.22,
          17.187,
          13.304,
          10.572,
          12.57,
          4.208,
          22.7205,
          44.397,
          3.333,
          42.315,
          14.932,
          7.98,
          3.3885,
          11.918,
          14.14,
          1.592
         ],
         "yaxis": "y"
        },
        {
         "alignmentgroup": "True",
         "hovertemplate": "Product line=Fashion accessories<br>Month=%{x}<br>gross income=%{y}<extra></extra>",
         "legendgroup": "Fashion accessories",
         "marker": {
          "color": "#19d3f3"
         },
         "name": "Fashion accessories",
         "offsetgroup": "Fashion accessories",
         "orientation": "v",
         "showlegend": true,
         "textposition": "auto",
         "type": "bar",
         "x": [
          6,
          8,
          10,
          2,
          3,
          3,
          1,
          7,
          11,
          9,
          12,
          3,
          3,
          1,
          5,
          2,
          2,
          5,
          1,
          9,
          8,
          1,
          2,
          10,
          3,
          1,
          8,
          2,
          9,
          1,
          1,
          3,
          12,
          2,
          1,
          2,
          5,
          11,
          2,
          1,
          3,
          1,
          7,
          3,
          7,
          2,
          3,
          2,
          5,
          5,
          8,
          3,
          3,
          2,
          2,
          3,
          8,
          6,
          1,
          1,
          1,
          6,
          1,
          2,
          1,
          2,
          2,
          4,
          1,
          8,
          3,
          9,
          2,
          1,
          9,
          2,
          8,
          10,
          2,
          2,
          2,
          3,
          3,
          3,
          2,
          5,
          1,
          3,
          1,
          1,
          1,
          5,
          2,
          12,
          9,
          2,
          4,
          3,
          1,
          10,
          1,
          2,
          1,
          3,
          1,
          1,
          8,
          10,
          1,
          1,
          7,
          12,
          2,
          1,
          2,
          3,
          2,
          1,
          2,
          3,
          4,
          1,
          2,
          9,
          2,
          10,
          7,
          2,
          1,
          1,
          3,
          2,
          1,
          2,
          3,
          1,
          8,
          8,
          3,
          1,
          9,
          1,
          5,
          5,
          3,
          3,
          3,
          4,
          1,
          1,
          3,
          3,
          9,
          2,
          1,
          1,
          1,
          2,
          2,
          3,
          12,
          3,
          3,
          2,
          1,
          1,
          11,
          2,
          3,
          3,
          6,
          3,
          3,
          7,
          6,
          7,
          2,
          2
         ],
         "xaxis": "x",
         "y": [
          2.896,
          1.676,
          8.767,
          23.5325,
          41.315,
          3.574,
          0.7715,
          29.283,
          31.06,
          22.068,
          9.0045,
          19.13,
          2.4355,
          35.3475,
          8.214,
          25.494,
          4.053,
          5.485,
          2.568,
          22.588,
          14.2785,
          13.867,
          13.533,
          15.07,
          18.308,
          37.458,
          49.49,
          7.8785,
          22.491,
          7.352,
          3.7145,
          4.5555,
          37.948,
          0.627,
          8.137,
          14.764,
          11.055,
          4.4845,
          9.32,
          4.485,
          17.595,
          6.524,
          3.29,
          7.66,
          16.7895,
          19.084,
          35.495,
          9.982,
          8.191,
          6.933,
          15.4425,
          19.255,
          34.38,
          35.0685,
          49.65,
          19.1555,
          18.775,
          16.336,
          6.096,
          12.624,
          24.175,
          19.396,
          24.3315,
          12.072,
          18.975,
          9.9375,
          34.2265,
          13.742,
          5.955,
          48.605,
          10.168,
          0.814,
          18.2745,
          6.908,
          33.439,
          2.372,
          0.639,
          6.861,
          7.39,
          21.565,
          20.545,
          7.43,
          3.47,
          9.83,
          9.989,
          1.595,
          18.998,
          2.5735,
          7.842,
          5.986,
          34.672,
          3.698,
          14.61,
          14.71,
          8.5905,
          24.4395,
          7.204,
          9.925,
          29.583,
          27.951,
          28.4585,
          9.298,
          3.616,
          29.805,
          9.2125,
          3.2495,
          18.1615,
          18.7775,
          1.5305,
          13.983,
          13.038,
          41.625,
          4.5675,
          0.6045,
          7.863,
          1.6815,
          12.036,
          13.2225,
          2.7725,
          17.625,
          9.726,
          28.02,
          8.377,
          14.796,
          2.148,
          25.683,
          24.164,
          9.885,
          6.248,
          39.48,
          25.011,
          6.807,
          5.244,
          8.946,
          19.452,
          4.464,
          0.985,
          32.615,
          4.464,
          12.7305,
          38.916,
          25.552,
          11.409,
          1.531,
          2.3205,
          2.718,
          23.5865,
          22.032,
          31.09,
          15.904,
          6.192,
          2.619,
          9.635,
          7.791,
          1.066,
          29.73,
          3.705,
          9.848,
          16.4295,
          2.825,
          2.6175,
          4.072,
          4.876,
          23.1225,
          21.259,
          20.536,
          18.934,
          8.335,
          44.919,
          2.689,
          14.8995,
          4.599,
          0.775,
          8.613,
          4.992,
          15.9275,
          8.745,
          30.919
         ],
         "yaxis": "y"
        }
       ],
       "layout": {
        "barmode": "stack",
        "legend": {
         "title": {
          "text": "Product line"
         },
         "tracegroupgap": 0
        },
        "margin": {
         "t": 60
        },
        "template": {
         "data": {
          "bar": [
           {
            "error_x": {
             "color": "#2a3f5f"
            },
            "error_y": {
             "color": "#2a3f5f"
            },
            "marker": {
             "line": {
              "color": "#E5ECF6",
              "width": 0.5
             }
            },
            "type": "bar"
           }
          ],
          "barpolar": [
           {
            "marker": {
             "line": {
              "color": "#E5ECF6",
              "width": 0.5
             }
            },
            "type": "barpolar"
           }
          ],
          "carpet": [
           {
            "aaxis": {
             "endlinecolor": "#2a3f5f",
             "gridcolor": "white",
             "linecolor": "white",
             "minorgridcolor": "white",
             "startlinecolor": "#2a3f5f"
            },
            "baxis": {
             "endlinecolor": "#2a3f5f",
             "gridcolor": "white",
             "linecolor": "white",
             "minorgridcolor": "white",
             "startlinecolor": "#2a3f5f"
            },
            "type": "carpet"
           }
          ],
          "choropleth": [
           {
            "colorbar": {
             "outlinewidth": 0,
             "ticks": ""
            },
            "type": "choropleth"
           }
          ],
          "contour": [
           {
            "colorbar": {
             "outlinewidth": 0,
             "ticks": ""
            },
            "colorscale": [
             [
              0,
              "#0d0887"
             ],
             [
              0.1111111111111111,
              "#46039f"
             ],
             [
              0.2222222222222222,
              "#7201a8"
             ],
             [
              0.3333333333333333,
              "#9c179e"
             ],
             [
              0.4444444444444444,
              "#bd3786"
             ],
             [
              0.5555555555555556,
              "#d8576b"
             ],
             [
              0.6666666666666666,
              "#ed7953"
             ],
             [
              0.7777777777777778,
              "#fb9f3a"
             ],
             [
              0.8888888888888888,
              "#fdca26"
             ],
             [
              1,
              "#f0f921"
             ]
            ],
            "type": "contour"
           }
          ],
          "contourcarpet": [
           {
            "colorbar": {
             "outlinewidth": 0,
             "ticks": ""
            },
            "type": "contourcarpet"
           }
          ],
          "heatmap": [
           {
            "colorbar": {
             "outlinewidth": 0,
             "ticks": ""
            },
            "colorscale": [
             [
              0,
              "#0d0887"
             ],
             [
              0.1111111111111111,
              "#46039f"
             ],
             [
              0.2222222222222222,
              "#7201a8"
             ],
             [
              0.3333333333333333,
              "#9c179e"
             ],
             [
              0.4444444444444444,
              "#bd3786"
             ],
             [
              0.5555555555555556,
              "#d8576b"
             ],
             [
              0.6666666666666666,
              "#ed7953"
             ],
             [
              0.7777777777777778,
              "#fb9f3a"
             ],
             [
              0.8888888888888888,
              "#fdca26"
             ],
             [
              1,
              "#f0f921"
             ]
            ],
            "type": "heatmap"
           }
          ],
          "heatmapgl": [
           {
            "colorbar": {
             "outlinewidth": 0,
             "ticks": ""
            },
            "colorscale": [
             [
              0,
              "#0d0887"
             ],
             [
              0.1111111111111111,
              "#46039f"
             ],
             [
              0.2222222222222222,
              "#7201a8"
             ],
             [
              0.3333333333333333,
              "#9c179e"
             ],
             [
              0.4444444444444444,
              "#bd3786"
             ],
             [
              0.5555555555555556,
              "#d8576b"
             ],
             [
              0.6666666666666666,
              "#ed7953"
             ],
             [
              0.7777777777777778,
              "#fb9f3a"
             ],
             [
              0.8888888888888888,
              "#fdca26"
             ],
             [
              1,
              "#f0f921"
             ]
            ],
            "type": "heatmapgl"
           }
          ],
          "histogram": [
           {
            "marker": {
             "colorbar": {
              "outlinewidth": 0,
              "ticks": ""
             }
            },
            "type": "histogram"
           }
          ],
          "histogram2d": [
           {
            "colorbar": {
             "outlinewidth": 0,
             "ticks": ""
            },
            "colorscale": [
             [
              0,
              "#0d0887"
             ],
             [
              0.1111111111111111,
              "#46039f"
             ],
             [
              0.2222222222222222,
              "#7201a8"
             ],
             [
              0.3333333333333333,
              "#9c179e"
             ],
             [
              0.4444444444444444,
              "#bd3786"
             ],
             [
              0.5555555555555556,
              "#d8576b"
             ],
             [
              0.6666666666666666,
              "#ed7953"
             ],
             [
              0.7777777777777778,
              "#fb9f3a"
             ],
             [
              0.8888888888888888,
              "#fdca26"
             ],
             [
              1,
              "#f0f921"
             ]
            ],
            "type": "histogram2d"
           }
          ],
          "histogram2dcontour": [
           {
            "colorbar": {
             "outlinewidth": 0,
             "ticks": ""
            },
            "colorscale": [
             [
              0,
              "#0d0887"
             ],
             [
              0.1111111111111111,
              "#46039f"
             ],
             [
              0.2222222222222222,
              "#7201a8"
             ],
             [
              0.3333333333333333,
              "#9c179e"
             ],
             [
              0.4444444444444444,
              "#bd3786"
             ],
             [
              0.5555555555555556,
              "#d8576b"
             ],
             [
              0.6666666666666666,
              "#ed7953"
             ],
             [
              0.7777777777777778,
              "#fb9f3a"
             ],
             [
              0.8888888888888888,
              "#fdca26"
             ],
             [
              1,
              "#f0f921"
             ]
            ],
            "type": "histogram2dcontour"
           }
          ],
          "mesh3d": [
           {
            "colorbar": {
             "outlinewidth": 0,
             "ticks": ""
            },
            "type": "mesh3d"
           }
          ],
          "parcoords": [
           {
            "line": {
             "colorbar": {
              "outlinewidth": 0,
              "ticks": ""
             }
            },
            "type": "parcoords"
           }
          ],
          "pie": [
           {
            "automargin": true,
            "type": "pie"
           }
          ],
          "scatter": [
           {
            "marker": {
             "colorbar": {
              "outlinewidth": 0,
              "ticks": ""
             }
            },
            "type": "scatter"
           }
          ],
          "scatter3d": [
           {
            "line": {
             "colorbar": {
              "outlinewidth": 0,
              "ticks": ""
             }
            },
            "marker": {
             "colorbar": {
              "outlinewidth": 0,
              "ticks": ""
             }
            },
            "type": "scatter3d"
           }
          ],
          "scattercarpet": [
           {
            "marker": {
             "colorbar": {
              "outlinewidth": 0,
              "ticks": ""
             }
            },
            "type": "scattercarpet"
           }
          ],
          "scattergeo": [
           {
            "marker": {
             "colorbar": {
              "outlinewidth": 0,
              "ticks": ""
             }
            },
            "type": "scattergeo"
           }
          ],
          "scattergl": [
           {
            "marker": {
             "colorbar": {
              "outlinewidth": 0,
              "ticks": ""
             }
            },
            "type": "scattergl"
           }
          ],
          "scattermapbox": [
           {
            "marker": {
             "colorbar": {
              "outlinewidth": 0,
              "ticks": ""
             }
            },
            "type": "scattermapbox"
           }
          ],
          "scatterpolar": [
           {
            "marker": {
             "colorbar": {
              "outlinewidth": 0,
              "ticks": ""
             }
            },
            "type": "scatterpolar"
           }
          ],
          "scatterpolargl": [
           {
            "marker": {
             "colorbar": {
              "outlinewidth": 0,
              "ticks": ""
             }
            },
            "type": "scatterpolargl"
           }
          ],
          "scatterternary": [
           {
            "marker": {
             "colorbar": {
              "outlinewidth": 0,
              "ticks": ""
             }
            },
            "type": "scatterternary"
           }
          ],
          "surface": [
           {
            "colorbar": {
             "outlinewidth": 0,
             "ticks": ""
            },
            "colorscale": [
             [
              0,
              "#0d0887"
             ],
             [
              0.1111111111111111,
              "#46039f"
             ],
             [
              0.2222222222222222,
              "#7201a8"
             ],
             [
              0.3333333333333333,
              "#9c179e"
             ],
             [
              0.4444444444444444,
              "#bd3786"
             ],
             [
              0.5555555555555556,
              "#d8576b"
             ],
             [
              0.6666666666666666,
              "#ed7953"
             ],
             [
              0.7777777777777778,
              "#fb9f3a"
             ],
             [
              0.8888888888888888,
              "#fdca26"
             ],
             [
              1,
              "#f0f921"
             ]
            ],
            "type": "surface"
           }
          ],
          "table": [
           {
            "cells": {
             "fill": {
              "color": "#EBF0F8"
             },
             "line": {
              "color": "white"
             }
            },
            "header": {
             "fill": {
              "color": "#C8D4E3"
             },
             "line": {
              "color": "white"
             }
            },
            "type": "table"
           }
          ]
         },
         "layout": {
          "annotationdefaults": {
           "arrowcolor": "#2a3f5f",
           "arrowhead": 0,
           "arrowwidth": 1
          },
          "autotypenumbers": "strict",
          "coloraxis": {
           "colorbar": {
            "outlinewidth": 0,
            "ticks": ""
           }
          },
          "colorscale": {
           "diverging": [
            [
             0,
             "#8e0152"
            ],
            [
             0.1,
             "#c51b7d"
            ],
            [
             0.2,
             "#de77ae"
            ],
            [
             0.3,
             "#f1b6da"
            ],
            [
             0.4,
             "#fde0ef"
            ],
            [
             0.5,
             "#f7f7f7"
            ],
            [
             0.6,
             "#e6f5d0"
            ],
            [
             0.7,
             "#b8e186"
            ],
            [
             0.8,
             "#7fbc41"
            ],
            [
             0.9,
             "#4d9221"
            ],
            [
             1,
             "#276419"
            ]
           ],
           "sequential": [
            [
             0,
             "#0d0887"
            ],
            [
             0.1111111111111111,
             "#46039f"
            ],
            [
             0.2222222222222222,
             "#7201a8"
            ],
            [
             0.3333333333333333,
             "#9c179e"
            ],
            [
             0.4444444444444444,
             "#bd3786"
            ],
            [
             0.5555555555555556,
             "#d8576b"
            ],
            [
             0.6666666666666666,
             "#ed7953"
            ],
            [
             0.7777777777777778,
             "#fb9f3a"
            ],
            [
             0.8888888888888888,
             "#fdca26"
            ],
            [
             1,
             "#f0f921"
            ]
           ],
           "sequentialminus": [
            [
             0,
             "#0d0887"
            ],
            [
             0.1111111111111111,
             "#46039f"
            ],
            [
             0.2222222222222222,
             "#7201a8"
            ],
            [
             0.3333333333333333,
             "#9c179e"
            ],
            [
             0.4444444444444444,
             "#bd3786"
            ],
            [
             0.5555555555555556,
             "#d8576b"
            ],
            [
             0.6666666666666666,
             "#ed7953"
            ],
            [
             0.7777777777777778,
             "#fb9f3a"
            ],
            [
             0.8888888888888888,
             "#fdca26"
            ],
            [
             1,
             "#f0f921"
            ]
           ]
          },
          "colorway": [
           "#636efa",
           "#EF553B",
           "#00cc96",
           "#ab63fa",
           "#FFA15A",
           "#19d3f3",
           "#FF6692",
           "#B6E880",
           "#FF97FF",
           "#FECB52"
          ],
          "font": {
           "color": "#2a3f5f"
          },
          "geo": {
           "bgcolor": "white",
           "lakecolor": "white",
           "landcolor": "#E5ECF6",
           "showlakes": true,
           "showland": true,
           "subunitcolor": "white"
          },
          "hoverlabel": {
           "align": "left"
          },
          "hovermode": "closest",
          "mapbox": {
           "style": "light"
          },
          "paper_bgcolor": "white",
          "plot_bgcolor": "#E5ECF6",
          "polar": {
           "angularaxis": {
            "gridcolor": "white",
            "linecolor": "white",
            "ticks": ""
           },
           "bgcolor": "#E5ECF6",
           "radialaxis": {
            "gridcolor": "white",
            "linecolor": "white",
            "ticks": ""
           }
          },
          "scene": {
           "xaxis": {
            "backgroundcolor": "#E5ECF6",
            "gridcolor": "white",
            "gridwidth": 2,
            "linecolor": "white",
            "showbackground": true,
            "ticks": "",
            "zerolinecolor": "white"
           },
           "yaxis": {
            "backgroundcolor": "#E5ECF6",
            "gridcolor": "white",
            "gridwidth": 2,
            "linecolor": "white",
            "showbackground": true,
            "ticks": "",
            "zerolinecolor": "white"
           },
           "zaxis": {
            "backgroundcolor": "#E5ECF6",
            "gridcolor": "white",
            "gridwidth": 2,
            "linecolor": "white",
            "showbackground": true,
            "ticks": "",
            "zerolinecolor": "white"
           }
          },
          "shapedefaults": {
           "line": {
            "color": "#2a3f5f"
           }
          },
          "ternary": {
           "aaxis": {
            "gridcolor": "white",
            "linecolor": "white",
            "ticks": ""
           },
           "baxis": {
            "gridcolor": "white",
            "linecolor": "white",
            "ticks": ""
           },
           "bgcolor": "#E5ECF6",
           "caxis": {
            "gridcolor": "white",
            "linecolor": "white",
            "ticks": ""
           }
          },
          "title": {
           "x": 0.05
          },
          "xaxis": {
           "automargin": true,
           "gridcolor": "white",
           "linecolor": "white",
           "ticks": "",
           "title": {
            "standoff": 15
           },
           "zerolinecolor": "white",
           "zerolinewidth": 2
          },
          "yaxis": {
           "automargin": true,
           "gridcolor": "white",
           "linecolor": "white",
           "ticks": "",
           "title": {
            "standoff": 15
           },
           "zerolinecolor": "white",
           "zerolinewidth": 2
          }
         }
        },
        "xaxis": {
         "anchor": "y",
         "domain": [
          0,
          1
         ],
         "title": {
          "text": "Month"
         }
        },
        "yaxis": {
         "anchor": "x",
         "domain": [
          0,
          1
         ],
         "title": {
          "text": "gross income"
         }
        }
       }
      },
      "text/html": [
       "<div>                            <div id=\"38fc5f49-b39e-41b2-af28-5cc5637321ac\" class=\"plotly-graph-div\" style=\"height:525px; width:100%;\"></div>            <script type=\"text/javascript\">                require([\"plotly\"], function(Plotly) {                    window.PLOTLYENV=window.PLOTLYENV || {};                                    if (document.getElementById(\"38fc5f49-b39e-41b2-af28-5cc5637321ac\")) {                    Plotly.newPlot(                        \"38fc5f49-b39e-41b2-af28-5cc5637321ac\",                        [{\"alignmentgroup\": \"True\", \"hovertemplate\": \"Product line=Health and beauty<br>Month=%{x}<br>gross income=%{y}<extra></extra>\", \"legendgroup\": \"Health and beauty\", \"marker\": {\"color\": \"#636efa\"}, \"name\": \"Health and beauty\", \"offsetgroup\": \"Health and beauty\", \"orientation\": \"v\", \"showlegend\": true, \"textposition\": \"auto\", \"type\": \"bar\", \"x\": [5, 1, 10, 3, 11, 5, 3, 3, 3, 3, 2, 7, 2, 3, 10, 2, 1, 1, 2, 12, 6, 3, 3, 5, 8, 1, 5, 8, 3, 3, 3, 2, 3, 1, 1, 3, 12, 6, 3, 1, 11, 9, 1, 11, 3, 2, 4, 12, 2, 3, 12, 7, 11, 2, 1, 2, 1, 5, 2, 2, 2, 6, 1, 5, 2, 4, 1, 1, 12, 1, 1, 12, 3, 8, 3, 2, 5, 3, 3, 1, 12, 3, 5, 3, 1, 1, 9, 4, 3, 1, 3, 1, 3, 3, 1, 2, 2, 2, 2, 7, 4, 6, 3, 4, 6, 6, 2, 10, 1, 3, 1, 2, 5, 2, 2, 1, 1, 2, 3, 1, 3, 1, 4, 1, 2, 2, 1, 1, 2, 1, 1, 2, 1, 2, 3, 2, 9, 3, 1, 1, 5, 2, 2, 3, 2, 3, 1, 1, 2, 3, 1, 1], \"xaxis\": \"x\", \"y\": [26.1415, 23.288, 3.626, 35.69, 24.1255, 13.197, 11.2005, 9.658, 21.968, 1.537, 25.5105, 35.84, 15.148, 7.935, 3.347, 0.9165, 5.095, 29.757, 23.097, 28.962, 4.4875, 43.935, 10.6225, 14.7315, 24.39, 45.25, 34.3, 13.878, 13.228, 12.984, 43.749, 17.028, 17.5025, 13.02, 13.724, 4.37, 8.3, 12.95, 10.3635, 31.2165, 37.8405, 25.97, 4.3525, 5.977, 2.112, 29.913, 29.949, 9.534, 16.67, 9.055, 1.9505, 6.9975, 10.3845, 8.814, 1.971, 4.578, 10.226, 19.5895, 26.915, 6.75, 16.16, 3.987, 19.375, 12.318, 17.105, 5.2425, 4.8055, 4.0755, 5.722, 18.6095, 0.9575, 1.3535, 1.25, 13.0025, 29.028, 9.777, 10.128, 15.3225, 13.715, 6.287, 7.629, 3.794, 26.208, 12.854, 6.951, 15.536, 10.342, 3.655, 13.959, 2.223, 41.29, 33.235, 10.1325, 21.063, 16.743, 3.594, 14.313, 11.0115, 13.456, 29.475, 24.315, 36.2115, 25.1195, 6.2325, 8.92, 11.4, 8.4, 40.975, 28.4305, 2.6725, 11.1, 30.0545, 22.8585, 8.72, 2.54, 2.7475, 9.0705, 13.71, 4.639, 0.8875, 4.3, 19.232, 10.3065, 32.4495, 12.514, 4.565, 18.6165, 23.9875, 17.277, 5.0715, 6.282, 20.915, 39.664, 29.96, 6.9325, 5.832, 42.305, 20.72, 17.829, 22.428, 27.6115, 13.8135, 12.6975, 3.528, 5.9865, 2.37, 11.63, 34.986, 1.476, 24.8, 30.148, 2.0175], \"yaxis\": \"y\"}, {\"alignmentgroup\": \"True\", \"hovertemplate\": \"Product line=Electronic accessories<br>Month=%{x}<br>gross income=%{y}<extra></extra>\", \"legendgroup\": \"Electronic accessories\", \"marker\": {\"color\": \"#EF553B\"}, \"name\": \"Electronic accessories\", \"offsetgroup\": \"Electronic accessories\", \"orientation\": \"v\", \"showlegend\": true, \"textposition\": \"auto\", \"type\": \"bar\", \"x\": [8, 3, 2, 9, 12, 2, 2, 1, 9, 10, 2, 12, 9, 1, 8, 9, 1, 12, 3, 2, 2, 1, 4, 3, 1, 3, 3, 1, 4, 2, 1, 2, 1, 2, 1, 2, 12, 2, 9, 7, 1, 2, 7, 3, 1, 3, 2, 3, 3, 3, 2, 3, 3, 10, 10, 3, 3, 3, 10, 4, 3, 1, 4, 1, 3, 6, 2, 1, 3, 2, 4, 4, 1, 1, 7, 1, 2, 1, 7, 1, 2, 3, 7, 1, 2, 1, 1, 3, 3, 6, 1, 1, 7, 3, 3, 1, 3, 1, 7, 3, 5, 3, 3, 3, 2, 2, 1, 3, 2, 1, 12, 2, 1, 2, 1, 1, 1, 12, 2, 2, 1, 3, 1, 4, 2, 2, 2, 3, 2, 8, 2, 3, 1, 3, 3, 1, 1, 1, 2, 1, 1, 2, 8, 1, 2, 3, 1, 3, 7, 6, 6, 1, 1, 2, 2, 10, 2, 5, 3, 7, 5, 3, 2, 11, 1, 10, 9, 3, 10, 2], \"xaxis\": \"x\", \"y\": [3.82, 29.8865, 20.652, 5.102, 11.7375, 21.51, 8.64, 27.396, 18.792, 5.679, 34.392, 9.183, 22.773, 20.825, 4.858, 3.735, 10.3815, 44.335, 40.985, 39.824, 26.235, 6.5775, 3.6085, 8.34, 15.867, 8.1775, 11.498, 21.4935, 29.9925, 44.8785, 11.8035, 14.196, 13.605, 2.9525, 7.412, 27.21, 1.5885, 3.305, 12.21, 15.544, 3.3175, 6.45, 13.188, 33.777, 20.15, 9.7475, 3.124, 12.98, 5.768, 10.238, 5.984, 25.27, 3.972, 39.065, 18.6975, 7.272, 7.1125, 7.1475, 7.2135, 3.5975, 9.107, 18.0915, 1.512, 4.125, 23.094, 9.675, 9.191, 4.73, 2.661, 3.841, 8.658, 8.827, 12.6075, 7.038, 16.344, 22.413, 6.603, 4.154, 39.695, 23.285, 4.942, 16.11, 16.814, 1.93, 16.4, 6.322, 9.672, 34.8425, 6.8565, 11.475, 5.631, 19.818, 6.663, 6.762, 9.711, 16.968, 22.353, 4.154, 1.448, 21.9775, 11.7465, 2.31, 35.42, 5.567, 3.0125, 12.37, 18.915, 2.3535, 4.9845, 22.74, 1.974, 31.311, 8.6, 34.9335, 1.791, 26.558, 29.38, 36.624, 8.71, 14.296, 36.065, 19.128, 39.5415, 26.103, 28.756, 32.41, 4.661, 12.08, 34.0155, 10.046, 20.13, 4.7575, 19.448, 10.578, 32.475, 37.11, 4.224, 27.935, 3.015, 14.067, 3.663, 26.395, 11.9385, 10.715, 1.9875, 36.008, 4.84, 36.735, 23.164, 7.095, 15.135, 20.178, 11.226, 10.647, 3.939, 2.756, 39.7125, 32.858, 8.425, 13.806, 2.089, 14.523, 3.827, 8.6225, 30.478, 1.2725, 33.7295, 41.17, 5.803, 3.0475], \"yaxis\": \"y\"}, {\"alignmentgroup\": \"True\", \"hovertemplate\": \"Product line=Home and lifestyle<br>Month=%{x}<br>gross income=%{y}<extra></extra>\", \"legendgroup\": \"Home and lifestyle\", \"marker\": {\"color\": \"#00cc96\"}, \"name\": \"Home and lifestyle\", \"offsetgroup\": \"Home and lifestyle\", \"orientation\": \"v\", \"showlegend\": true, \"textposition\": \"auto\", \"type\": \"bar\", \"x\": [3, 2, 11, 3, 3, 3, 1, 2, 7, 3, 1, 2, 1, 1, 5, 1, 1, 1, 3, 10, 2, 1, 6, 7, 1, 3, 3, 8, 10, 1, 11, 1, 3, 2, 3, 3, 3, 11, 5, 2, 1, 3, 6, 5, 3, 5, 4, 7, 1, 7, 2, 6, 3, 3, 10, 1, 1, 2, 1, 7, 1, 2, 1, 3, 3, 3, 5, 3, 12, 4, 4, 3, 8, 8, 8, 1, 1, 12, 1, 4, 5, 1, 9, 5, 1, 1, 3, 6, 11, 7, 7, 1, 3, 1, 3, 2, 1, 3, 8, 1, 1, 3, 1, 3, 8, 1, 1, 6, 12, 2, 3, 3, 8, 9, 3, 3, 3, 2, 1, 3, 1, 11, 5, 1, 3, 1, 1, 11, 3, 2, 12, 7, 2, 3, 12, 3, 3, 3, 9, 3, 1, 7, 2, 10, 8, 2, 3, 3, 1, 1, 6, 9, 9, 9, 4, 1, 10, 11, 2, 2], \"xaxis\": \"x\", \"y\": [16.2155, 36.78, 4.03, 3.32, 21.036, 12.048, 4.336, 5.611, 1.616, 4.434, 36.175, 16.719, 33.6015, 9.476, 24.81, 26.1315, 36.3555, 5.344, 25.564, 32.7915, 10.326, 23.385, 28.744, 12.57, 47.79, 15.228, 37.796, 9.294, 3.7035, 13.962, 11.556, 5.11, 1.2645, 4.4425, 14.265, 23.09, 0.914, 25.368, 12.53, 37.548, 19.036, 4.75, 23.56, 7.773, 7.094, 14.148, 17.77, 9.693, 1.203, 10.91, 27.984, 1.85, 3.743, 33.208, 23.514, 12.002, 4.4305, 35.516, 6.456, 9.909, 35.7, 12.15, 21.966, 13.188, 21.033, 16.7725, 15.921, 6.1155, 9.244, 0.699, 11.306, 20.372, 9.076, 45.325, 10.197, 40.1445, 25.131, 30.19, 1.148, 34.956, 6.06, 6.94, 4.785, 10.7275, 9.8475, 3.473, 24.951, 11.232, 7.08, 5.8345, 4.897, 4.602, 7.762, 5.622, 10.863, 20.51, 8.484, 7.032, 6.35, 33.1065, 7.995, 14.955, 8.712, 36.39, 4.91, 31.78, 21.8425, 12.438, 48.75, 39.7755, 15.106, 6.618, 8.3355, 18.263, 28.42, 42.282, 19.4635, 3.769, 2.6325, 5.5305, 18.32, 28.956, 38.184, 3.429, 17.604, 48.685, 3.0435, 21.6725, 15.494, 4.768, 14.2555, 5.662, 4.3135, 5.076, 17.8745, 4.658, 26.104, 10.326, 9.194, 15.676, 24.505, 37.248, 10.3455, 16.1055, 4.911, 1.273, 29.976, 18.945, 12.858, 22.84, 8.9525, 3.285, 19.773, 7.9, 14.985, 12.1515, 12.9185, 12.012, 48.69, 3.291], \"yaxis\": \"y\"}, {\"alignmentgroup\": \"True\", \"hovertemplate\": \"Product line=Sports and travel<br>Month=%{x}<br>gross income=%{y}<extra></extra>\", \"legendgroup\": \"Sports and travel\", \"marker\": {\"color\": \"#ab63fa\"}, \"name\": \"Sports and travel\", \"offsetgroup\": \"Sports and travel\", \"orientation\": \"v\", \"showlegend\": true, \"textposition\": \"auto\", \"type\": \"bar\", \"x\": [8, 1, 1, 2, 1, 10, 7, 10, 8, 2, 3, 6, 1, 9, 5, 2, 1, 10, 3, 5, 12, 9, 1, 8, 6, 10, 2, 3, 1, 11, 1, 3, 2, 1, 1, 3, 4, 1, 4, 11, 3, 11, 1, 2, 9, 2, 12, 6, 3, 6, 1, 3, 1, 12, 3, 2, 2, 9, 3, 1, 2, 11, 1, 9, 1, 1, 10, 2, 3, 1, 3, 1, 3, 3, 2, 3, 1, 3, 3, 8, 1, 3, 3, 1, 2, 3, 3, 2, 8, 1, 2, 1, 2, 2, 2, 7, 1, 3, 2, 1, 3, 1, 4, 7, 5, 3, 2, 3, 1, 3, 1, 9, 1, 1, 6, 1, 3, 1, 2, 1, 2, 1, 1, 8, 3, 1, 1, 1, 1, 5, 12, 2, 2, 2, 2, 3, 3, 11, 1, 2, 12, 1, 8, 7, 2, 1, 9, 2, 1, 2, 1, 8, 3, 6, 1, 2, 1, 3, 3, 10, 3, 2, 2, 3, 3, 1], \"xaxis\": \"x\", \"y\": [30.2085, 28.116, 21.783, 13.2945, 35.1315, 33.512, 3.406, 15.655, 20.736, 3.711, 24.7815, 7.905, 39.385, 12.2275, 29.071, 2.1235, 22.43, 7.693, 18.639, 1.649, 19.992, 44.982, 8.0625, 40.626, 27.639, 6.968, 25.955, 29.0, 44.9, 12.096, 32.388, 28.017, 3.1845, 7.64, 24.332, 7.75, 4.319, 5.745, 6.963, 10.3635, 6.1925, 8.716, 9.314, 1.439, 11.12, 2.7225, 34.44, 16.8575, 22.01, 0.767, 10.6875, 14.0805, 23.979, 19.548, 3.675, 17.385, 6.6975, 47.72, 3.7485, 7.18, 33.4215, 16.466, 3.791, 26.13, 13.452, 2.187, 3.876, 16.8175, 44.658, 16.586, 35.372, 6.685, 1.956, 14.79, 27.275, 11.106, 8.01, 8.315, 17.185, 9.285, 18.49, 9.898, 30.368, 4.9065, 20.608, 3.6985, 9.331, 4.4225, 7.275, 31.759, 20.4365, 17.98, 22.8525, 44.1405, 4.036, 27.4275, 12.885, 24.665, 25.893, 13.335, 21.4775, 9.459, 10.765, 2.279, 11.28, 14.52, 20.997, 16.353, 4.0465, 17.424, 21.78, 6.087, 32.095, 1.549, 16.794, 6.9825, 6.4455, 5.999, 9.88, 4.062, 22.428, 1.7405, 6.924, 6.483, 7.288, 31.5855, 5.408, 3.855, 40.7835, 34.87, 7.163, 12.668, 4.107, 19.108, 23.7965, 4.669, 6.3125, 18.952, 20.6185, 12.245, 6.903, 9.318, 16.2425, 0.5085, 21.028, 4.402, 4.74, 13.389, 8.766, 3.947, 1.119, 1.276, 36.212, 12.918, 26.718, 15.995, 15.953, 38.46, 2.1425, 29.099, 10.566, 4.4155, 2.531, 22.37, 43.866, 38.3], \"yaxis\": \"y\"}, {\"alignmentgroup\": \"True\", \"hovertemplate\": \"Product line=Food and beverages<br>Month=%{x}<br>gross income=%{y}<extra></extra>\", \"legendgroup\": \"Food and beverages\", \"marker\": {\"color\": \"#FFA15A\"}, \"name\": \"Food and beverages\", \"offsetgroup\": \"Food and beverages\", \"orientation\": \"v\", \"showlegend\": true, \"textposition\": \"auto\", \"type\": \"bar\", \"x\": [2, 7, 1, 1, 6, 4, 6, 3, 10, 6, 5, 5, 1, 1, 2, 3, 3, 3, 3, 2, 8, 2, 7, 2, 1, 3, 2, 1, 1, 1, 3, 3, 1, 5, 3, 2, 1, 10, 6, 3, 11, 1, 2, 8, 1, 1, 2, 1, 2, 9, 2, 9, 12, 2, 3, 5, 1, 7, 2, 2, 7, 2, 1, 1, 6, 11, 10, 3, 3, 11, 3, 3, 8, 8, 1, 2, 3, 2, 2, 3, 3, 3, 3, 9, 2, 1, 1, 1, 7, 3, 1, 5, 1, 2, 11, 1, 10, 1, 2, 1, 7, 3, 2, 3, 3, 1, 9, 3, 1, 3, 3, 1, 1, 3, 8, 2, 3, 12, 2, 3, 2, 11, 2, 12, 1, 3, 1, 2, 11, 4, 1, 1, 2, 3, 2, 3, 11, 6, 1, 1, 3, 1, 3, 2, 8, 1, 1, 8, 2, 8, 3, 5, 5, 9, 1, 3, 3, 2, 2, 3, 2, 2, 2, 1, 10, 2, 1, 1, 4, 2, 4, 1, 3, 9], \"xaxis\": \"x\", \"y\": [8.226, 21.595, 8.2005, 22.09, 19.884, 39.48, 9.0045, 31.99, 11.1475, 44.74, 7.278, 39.155, 14.502, 7.7, 16.072, 17.283, 7.9125, 17.478, 15.291, 5.48, 27.416, 1.5205, 4.944, 23.0725, 17.272, 16.0265, 19.95, 15.384, 20.0125, 7.916, 8.868, 22.164, 15.388, 2.712, 39.51, 17.8475, 41.967, 8.601, 21.728, 4.325, 11.223, 25.571, 20.9475, 37.3, 16.9785, 3.636, 2.4305, 3.5575, 9.937, 3.162, 10.3185, 24.945, 18.852, 4.935, 2.348, 19.269, 24.2575, 17.828, 32.384, 37.788, 9.979, 8.248, 24.9225, 14.978, 10.235, 14.031, 6.377, 13.5675, 11.829, 3.4475, 5.79, 3.1305, 4.327, 3.408, 4.36, 13.83, 15.9025, 34.83, 1.7945, 10.13, 36.525, 1.131, 12.835, 1.079, 26.388, 27.072, 25.215, 24.513, 27.18, 7.3395, 26.244, 3.56, 49.26, 12.498, 44.6, 40.605, 3.5455, 7.239, 12.06, 6.354, 4.083, 7.851, 7.83, 38.78, 9.958, 5.789, 44.5365, 33.725, 29.559, 10.752, 4.5805, 7.888, 8.377, 11.9865, 4.4075, 14.8185, 29.008, 43.55, 8.661, 9.34, 14.694, 14.55, 10.065, 19.264, 23.67, 4.848, 3.449, 24.186, 12.8695, 4.668, 2.686, 4.2415, 1.921, 6.82, 9.425, 11.078, 38.6, 2.621, 6.565, 7.215, 21.284, 13.552, 11.79, 1.487, 32.796, 8.448, 21.4335, 3.6465, 8.687, 16.605, 8.334, 4.395, 14.181, 15.768, 4.0355, 7.954, 4.3725, 14.94, 37.22, 17.187, 13.304, 10.572, 12.57, 4.208, 22.7205, 44.397, 3.333, 42.315, 14.932, 7.98, 3.3885, 11.918, 14.14, 1.592], \"yaxis\": \"y\"}, {\"alignmentgroup\": \"True\", \"hovertemplate\": \"Product line=Fashion accessories<br>Month=%{x}<br>gross income=%{y}<extra></extra>\", \"legendgroup\": \"Fashion accessories\", \"marker\": {\"color\": \"#19d3f3\"}, \"name\": \"Fashion accessories\", \"offsetgroup\": \"Fashion accessories\", \"orientation\": \"v\", \"showlegend\": true, \"textposition\": \"auto\", \"type\": \"bar\", \"x\": [6, 8, 10, 2, 3, 3, 1, 7, 11, 9, 12, 3, 3, 1, 5, 2, 2, 5, 1, 9, 8, 1, 2, 10, 3, 1, 8, 2, 9, 1, 1, 3, 12, 2, 1, 2, 5, 11, 2, 1, 3, 1, 7, 3, 7, 2, 3, 2, 5, 5, 8, 3, 3, 2, 2, 3, 8, 6, 1, 1, 1, 6, 1, 2, 1, 2, 2, 4, 1, 8, 3, 9, 2, 1, 9, 2, 8, 10, 2, 2, 2, 3, 3, 3, 2, 5, 1, 3, 1, 1, 1, 5, 2, 12, 9, 2, 4, 3, 1, 10, 1, 2, 1, 3, 1, 1, 8, 10, 1, 1, 7, 12, 2, 1, 2, 3, 2, 1, 2, 3, 4, 1, 2, 9, 2, 10, 7, 2, 1, 1, 3, 2, 1, 2, 3, 1, 8, 8, 3, 1, 9, 1, 5, 5, 3, 3, 3, 4, 1, 1, 3, 3, 9, 2, 1, 1, 1, 2, 2, 3, 12, 3, 3, 2, 1, 1, 11, 2, 3, 3, 6, 3, 3, 7, 6, 7, 2, 2], \"xaxis\": \"x\", \"y\": [2.896, 1.676, 8.767, 23.5325, 41.315, 3.574, 0.7715, 29.283, 31.06, 22.068, 9.0045, 19.13, 2.4355, 35.3475, 8.214, 25.494, 4.053, 5.485, 2.568, 22.588, 14.2785, 13.867, 13.533, 15.07, 18.308, 37.458, 49.49, 7.8785, 22.491, 7.352, 3.7145, 4.5555, 37.948, 0.627, 8.137, 14.764, 11.055, 4.4845, 9.32, 4.485, 17.595, 6.524, 3.29, 7.66, 16.7895, 19.084, 35.495, 9.982, 8.191, 6.933, 15.4425, 19.255, 34.38, 35.0685, 49.65, 19.1555, 18.775, 16.336, 6.096, 12.624, 24.175, 19.396, 24.3315, 12.072, 18.975, 9.9375, 34.2265, 13.742, 5.955, 48.605, 10.168, 0.814, 18.2745, 6.908, 33.439, 2.372, 0.639, 6.861, 7.39, 21.565, 20.545, 7.43, 3.47, 9.83, 9.989, 1.595, 18.998, 2.5735, 7.842, 5.986, 34.672, 3.698, 14.61, 14.71, 8.5905, 24.4395, 7.204, 9.925, 29.583, 27.951, 28.4585, 9.298, 3.616, 29.805, 9.2125, 3.2495, 18.1615, 18.7775, 1.5305, 13.983, 13.038, 41.625, 4.5675, 0.6045, 7.863, 1.6815, 12.036, 13.2225, 2.7725, 17.625, 9.726, 28.02, 8.377, 14.796, 2.148, 25.683, 24.164, 9.885, 6.248, 39.48, 25.011, 6.807, 5.244, 8.946, 19.452, 4.464, 0.985, 32.615, 4.464, 12.7305, 38.916, 25.552, 11.409, 1.531, 2.3205, 2.718, 23.5865, 22.032, 31.09, 15.904, 6.192, 2.619, 9.635, 7.791, 1.066, 29.73, 3.705, 9.848, 16.4295, 2.825, 2.6175, 4.072, 4.876, 23.1225, 21.259, 20.536, 18.934, 8.335, 44.919, 2.689, 14.8995, 4.599, 0.775, 8.613, 4.992, 15.9275, 8.745, 30.919], \"yaxis\": \"y\"}],                        {\"barmode\": \"stack\", \"legend\": {\"title\": {\"text\": \"Product line\"}, \"tracegroupgap\": 0}, \"margin\": {\"t\": 60}, \"template\": {\"data\": {\"bar\": [{\"error_x\": {\"color\": \"#2a3f5f\"}, \"error_y\": {\"color\": \"#2a3f5f\"}, \"marker\": {\"line\": {\"color\": \"#E5ECF6\", \"width\": 0.5}}, \"type\": \"bar\"}], \"barpolar\": [{\"marker\": {\"line\": {\"color\": \"#E5ECF6\", \"width\": 0.5}}, \"type\": \"barpolar\"}], \"carpet\": [{\"aaxis\": {\"endlinecolor\": \"#2a3f5f\", \"gridcolor\": \"white\", \"linecolor\": \"white\", \"minorgridcolor\": \"white\", \"startlinecolor\": \"#2a3f5f\"}, \"baxis\": {\"endlinecolor\": \"#2a3f5f\", \"gridcolor\": \"white\", \"linecolor\": \"white\", \"minorgridcolor\": \"white\", \"startlinecolor\": \"#2a3f5f\"}, \"type\": \"carpet\"}], \"choropleth\": [{\"colorbar\": {\"outlinewidth\": 0, \"ticks\": \"\"}, \"type\": \"choropleth\"}], \"contour\": [{\"colorbar\": {\"outlinewidth\": 0, \"ticks\": \"\"}, \"colorscale\": [[0.0, \"#0d0887\"], [0.1111111111111111, \"#46039f\"], [0.2222222222222222, \"#7201a8\"], [0.3333333333333333, \"#9c179e\"], [0.4444444444444444, \"#bd3786\"], [0.5555555555555556, \"#d8576b\"], [0.6666666666666666, \"#ed7953\"], [0.7777777777777778, \"#fb9f3a\"], [0.8888888888888888, \"#fdca26\"], [1.0, \"#f0f921\"]], \"type\": \"contour\"}], \"contourcarpet\": [{\"colorbar\": {\"outlinewidth\": 0, \"ticks\": \"\"}, \"type\": \"contourcarpet\"}], \"heatmap\": [{\"colorbar\": {\"outlinewidth\": 0, \"ticks\": \"\"}, \"colorscale\": [[0.0, \"#0d0887\"], [0.1111111111111111, \"#46039f\"], [0.2222222222222222, \"#7201a8\"], [0.3333333333333333, \"#9c179e\"], [0.4444444444444444, \"#bd3786\"], [0.5555555555555556, \"#d8576b\"], [0.6666666666666666, \"#ed7953\"], [0.7777777777777778, \"#fb9f3a\"], [0.8888888888888888, \"#fdca26\"], [1.0, \"#f0f921\"]], \"type\": \"heatmap\"}], \"heatmapgl\": [{\"colorbar\": {\"outlinewidth\": 0, \"ticks\": \"\"}, \"colorscale\": [[0.0, \"#0d0887\"], [0.1111111111111111, \"#46039f\"], [0.2222222222222222, \"#7201a8\"], [0.3333333333333333, \"#9c179e\"], [0.4444444444444444, \"#bd3786\"], [0.5555555555555556, \"#d8576b\"], [0.6666666666666666, \"#ed7953\"], [0.7777777777777778, \"#fb9f3a\"], [0.8888888888888888, \"#fdca26\"], [1.0, \"#f0f921\"]], \"type\": \"heatmapgl\"}], \"histogram\": [{\"marker\": {\"colorbar\": {\"outlinewidth\": 0, \"ticks\": \"\"}}, \"type\": \"histogram\"}], \"histogram2d\": [{\"colorbar\": {\"outlinewidth\": 0, \"ticks\": \"\"}, \"colorscale\": [[0.0, \"#0d0887\"], [0.1111111111111111, \"#46039f\"], [0.2222222222222222, \"#7201a8\"], [0.3333333333333333, \"#9c179e\"], [0.4444444444444444, \"#bd3786\"], [0.5555555555555556, \"#d8576b\"], [0.6666666666666666, \"#ed7953\"], [0.7777777777777778, \"#fb9f3a\"], [0.8888888888888888, \"#fdca26\"], [1.0, \"#f0f921\"]], \"type\": \"histogram2d\"}], \"histogram2dcontour\": [{\"colorbar\": {\"outlinewidth\": 0, \"ticks\": \"\"}, \"colorscale\": [[0.0, \"#0d0887\"], [0.1111111111111111, \"#46039f\"], [0.2222222222222222, \"#7201a8\"], [0.3333333333333333, \"#9c179e\"], [0.4444444444444444, \"#bd3786\"], [0.5555555555555556, \"#d8576b\"], [0.6666666666666666, \"#ed7953\"], [0.7777777777777778, \"#fb9f3a\"], [0.8888888888888888, \"#fdca26\"], [1.0, \"#f0f921\"]], \"type\": \"histogram2dcontour\"}], \"mesh3d\": [{\"colorbar\": {\"outlinewidth\": 0, \"ticks\": \"\"}, \"type\": \"mesh3d\"}], \"parcoords\": [{\"line\": {\"colorbar\": {\"outlinewidth\": 0, \"ticks\": \"\"}}, \"type\": \"parcoords\"}], \"pie\": [{\"automargin\": true, \"type\": \"pie\"}], \"scatter\": [{\"marker\": {\"colorbar\": {\"outlinewidth\": 0, \"ticks\": \"\"}}, \"type\": \"scatter\"}], \"scatter3d\": [{\"line\": {\"colorbar\": {\"outlinewidth\": 0, \"ticks\": \"\"}}, \"marker\": {\"colorbar\": {\"outlinewidth\": 0, \"ticks\": \"\"}}, \"type\": \"scatter3d\"}], \"scattercarpet\": [{\"marker\": {\"colorbar\": {\"outlinewidth\": 0, \"ticks\": \"\"}}, \"type\": \"scattercarpet\"}], \"scattergeo\": [{\"marker\": {\"colorbar\": {\"outlinewidth\": 0, \"ticks\": \"\"}}, \"type\": \"scattergeo\"}], \"scattergl\": [{\"marker\": {\"colorbar\": {\"outlinewidth\": 0, \"ticks\": \"\"}}, \"type\": \"scattergl\"}], \"scattermapbox\": [{\"marker\": {\"colorbar\": {\"outlinewidth\": 0, \"ticks\": \"\"}}, \"type\": \"scattermapbox\"}], \"scatterpolar\": [{\"marker\": {\"colorbar\": {\"outlinewidth\": 0, \"ticks\": \"\"}}, \"type\": \"scatterpolar\"}], \"scatterpolargl\": [{\"marker\": {\"colorbar\": {\"outlinewidth\": 0, \"ticks\": \"\"}}, \"type\": \"scatterpolargl\"}], \"scatterternary\": [{\"marker\": {\"colorbar\": {\"outlinewidth\": 0, \"ticks\": \"\"}}, \"type\": \"scatterternary\"}], \"surface\": [{\"colorbar\": {\"outlinewidth\": 0, \"ticks\": \"\"}, \"colorscale\": [[0.0, \"#0d0887\"], [0.1111111111111111, \"#46039f\"], [0.2222222222222222, \"#7201a8\"], [0.3333333333333333, \"#9c179e\"], [0.4444444444444444, \"#bd3786\"], [0.5555555555555556, \"#d8576b\"], [0.6666666666666666, \"#ed7953\"], [0.7777777777777778, \"#fb9f3a\"], [0.8888888888888888, \"#fdca26\"], [1.0, \"#f0f921\"]], \"type\": \"surface\"}], \"table\": [{\"cells\": {\"fill\": {\"color\": \"#EBF0F8\"}, \"line\": {\"color\": \"white\"}}, \"header\": {\"fill\": {\"color\": \"#C8D4E3\"}, \"line\": {\"color\": \"white\"}}, \"type\": \"table\"}]}, \"layout\": {\"annotationdefaults\": {\"arrowcolor\": \"#2a3f5f\", \"arrowhead\": 0, \"arrowwidth\": 1}, \"autotypenumbers\": \"strict\", \"coloraxis\": {\"colorbar\": {\"outlinewidth\": 0, \"ticks\": \"\"}}, \"colorscale\": {\"diverging\": [[0, \"#8e0152\"], [0.1, \"#c51b7d\"], [0.2, \"#de77ae\"], [0.3, \"#f1b6da\"], [0.4, \"#fde0ef\"], [0.5, \"#f7f7f7\"], [0.6, \"#e6f5d0\"], [0.7, \"#b8e186\"], [0.8, \"#7fbc41\"], [0.9, \"#4d9221\"], [1, \"#276419\"]], \"sequential\": [[0.0, \"#0d0887\"], [0.1111111111111111, \"#46039f\"], [0.2222222222222222, \"#7201a8\"], [0.3333333333333333, \"#9c179e\"], [0.4444444444444444, \"#bd3786\"], [0.5555555555555556, \"#d8576b\"], [0.6666666666666666, \"#ed7953\"], [0.7777777777777778, \"#fb9f3a\"], [0.8888888888888888, \"#fdca26\"], [1.0, \"#f0f921\"]], \"sequentialminus\": [[0.0, \"#0d0887\"], [0.1111111111111111, \"#46039f\"], [0.2222222222222222, \"#7201a8\"], [0.3333333333333333, \"#9c179e\"], [0.4444444444444444, \"#bd3786\"], [0.5555555555555556, \"#d8576b\"], [0.6666666666666666, \"#ed7953\"], [0.7777777777777778, \"#fb9f3a\"], [0.8888888888888888, \"#fdca26\"], [1.0, \"#f0f921\"]]}, \"colorway\": [\"#636efa\", \"#EF553B\", \"#00cc96\", \"#ab63fa\", \"#FFA15A\", \"#19d3f3\", \"#FF6692\", \"#B6E880\", \"#FF97FF\", \"#FECB52\"], \"font\": {\"color\": \"#2a3f5f\"}, \"geo\": {\"bgcolor\": \"white\", \"lakecolor\": \"white\", \"landcolor\": \"#E5ECF6\", \"showlakes\": true, \"showland\": true, \"subunitcolor\": \"white\"}, \"hoverlabel\": {\"align\": \"left\"}, \"hovermode\": \"closest\", \"mapbox\": {\"style\": \"light\"}, \"paper_bgcolor\": \"white\", \"plot_bgcolor\": \"#E5ECF6\", \"polar\": {\"angularaxis\": {\"gridcolor\": \"white\", \"linecolor\": \"white\", \"ticks\": \"\"}, \"bgcolor\": \"#E5ECF6\", \"radialaxis\": {\"gridcolor\": \"white\", \"linecolor\": \"white\", \"ticks\": \"\"}}, \"scene\": {\"xaxis\": {\"backgroundcolor\": \"#E5ECF6\", \"gridcolor\": \"white\", \"gridwidth\": 2, \"linecolor\": \"white\", \"showbackground\": true, \"ticks\": \"\", \"zerolinecolor\": \"white\"}, \"yaxis\": {\"backgroundcolor\": \"#E5ECF6\", \"gridcolor\": \"white\", \"gridwidth\": 2, \"linecolor\": \"white\", \"showbackground\": true, \"ticks\": \"\", \"zerolinecolor\": \"white\"}, \"zaxis\": {\"backgroundcolor\": \"#E5ECF6\", \"gridcolor\": \"white\", \"gridwidth\": 2, \"linecolor\": \"white\", \"showbackground\": true, \"ticks\": \"\", \"zerolinecolor\": \"white\"}}, \"shapedefaults\": {\"line\": {\"color\": \"#2a3f5f\"}}, \"ternary\": {\"aaxis\": {\"gridcolor\": \"white\", \"linecolor\": \"white\", \"ticks\": \"\"}, \"baxis\": {\"gridcolor\": \"white\", \"linecolor\": \"white\", \"ticks\": \"\"}, \"bgcolor\": \"#E5ECF6\", \"caxis\": {\"gridcolor\": \"white\", \"linecolor\": \"white\", \"ticks\": \"\"}}, \"title\": {\"x\": 0.05}, \"xaxis\": {\"automargin\": true, \"gridcolor\": \"white\", \"linecolor\": \"white\", \"ticks\": \"\", \"title\": {\"standoff\": 15}, \"zerolinecolor\": \"white\", \"zerolinewidth\": 2}, \"yaxis\": {\"automargin\": true, \"gridcolor\": \"white\", \"linecolor\": \"white\", \"ticks\": \"\", \"title\": {\"standoff\": 15}, \"zerolinecolor\": \"white\", \"zerolinewidth\": 2}}}, \"xaxis\": {\"anchor\": \"y\", \"domain\": [0.0, 1.0], \"title\": {\"text\": \"Month\"}}, \"yaxis\": {\"anchor\": \"x\", \"domain\": [0.0, 1.0], \"title\": {\"text\": \"gross income\"}}},                        {\"responsive\": true}                    ).then(function(){\n",
       "                            \n",
       "var gd = document.getElementById('38fc5f49-b39e-41b2-af28-5cc5637321ac');\n",
       "var x = new MutationObserver(function (mutations, observer) {{\n",
       "        var display = window.getComputedStyle(gd).display;\n",
       "        if (!display || display === 'none') {{\n",
       "            console.log([gd, 'removed!']);\n",
       "            Plotly.purge(gd);\n",
       "            observer.disconnect();\n",
       "        }}\n",
       "}});\n",
       "\n",
       "// Listen for the removal of the full notebook cells\n",
       "var notebookContainer = gd.closest('#notebook-container');\n",
       "if (notebookContainer) {{\n",
       "    x.observe(notebookContainer, {childList: true});\n",
       "}}\n",
       "\n",
       "// Listen for the clearing of the current output cell\n",
       "var outputEl = gd.closest('.output');\n",
       "if (outputEl) {{\n",
       "    x.observe(outputEl, {childList: true});\n",
       "}}\n",
       "\n",
       "                        })                };                });            </script>        </div>"
      ]
     },
     "metadata": {},
     "output_type": "display_data"
    }
   ],
   "source": [
    "fig.show()"
   ]
  }
 ],
 "metadata": {
  "kernelspec": {
   "display_name": "Python 3",
   "language": "python",
   "name": "python3"
  },
  "language_info": {
   "codemirror_mode": {
    "name": "ipython",
    "version": 3
   },
   "file_extension": ".py",
   "mimetype": "text/x-python",
   "name": "python",
   "nbconvert_exporter": "python",
   "pygments_lexer": "ipython3",
   "version": "3.8.8"
  }
 },
 "nbformat": 4,
 "nbformat_minor": 5
}
